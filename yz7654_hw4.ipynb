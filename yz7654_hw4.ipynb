{
  "cells": [
    {
      "cell_type": "code",
      "execution_count": null,
      "metadata": {
        "id": "RLryz8mV6w3b"
      },
      "outputs": [],
      "source": [
        "# Yihao Zhong Larry, yz7654, date: 03/09/2024 - onwards\n",
        "#"
      ]
    },
    {
      "cell_type": "markdown",
      "metadata": {
        "id": "niyXDZZHJN6B"
      },
      "source": [
        "## Problem 1 -  Softmax Activation Function"
      ]
    },
    {
      "cell_type": "markdown",
      "metadata": {
        "id": "B-zu7ATJJN6C"
      },
      "source": [
        "### 1.1. logarithmic derivative\n"
      ]
    },
    {
      "cell_type": "markdown",
      "metadata": {
        "id": "QmDfAMk8JN6C"
      },
      "source": [
        "### 1.2."
      ]
    },
    {
      "cell_type": "markdown",
      "metadata": {
        "id": "HuN7KIgbJN6C"
      },
      "source": [
        "## Problem 2 -  Neural Network Training and Backpropagation"
      ]
    },
    {
      "cell_type": "markdown",
      "metadata": {
        "id": "10Q4CpMWJN6D"
      },
      "source": [
        "### 2.1."
      ]
    },
    {
      "cell_type": "markdown",
      "metadata": {
        "id": "9GWZnZduJN6D"
      },
      "source": [
        "### 2.2. forward_propagate()"
      ]
    },
    {
      "cell_type": "markdown",
      "metadata": {
        "id": "J1_k1z9sJN6D"
      },
      "source": [
        "### 2.3. cost()"
      ]
    },
    {
      "cell_type": "markdown",
      "metadata": {
        "id": "-ISlDvNSJN6D"
      },
      "source": [
        "### 2.4. sigmoid gradient\n",
        "\n"
      ]
    },
    {
      "cell_type": "markdown",
      "metadata": {
        "id": "MDjnuDzaJN6D"
      },
      "source": [
        "### 2.5. backprop()"
      ]
    },
    {
      "cell_type": "markdown",
      "metadata": {
        "id": "gtyGHB53JN6E"
      },
      "source": [
        "### 2.6. & 2.7. Train"
      ]
    },
    {
      "cell_type": "markdown",
      "metadata": {
        "id": "Wq3RszYEJN6E"
      },
      "source": [
        "## Problem 3 - Weight Initialization, Dead Neurons, Leaky ReLU"
      ]
    },
    {
      "cell_type": "markdown",
      "metadata": {
        "id": "0B9Lw37BJN6E"
      },
      "source": [
        "### 3.1.\n"
      ]
    },
    {
      "cell_type": "markdown",
      "metadata": {
        "id": "SDwpaatHJN6F"
      },
      "source": [
        "### 3.2\n",
        "\n",
        "\n",
        "\n",
        "\n"
      ]
    },
    {
      "cell_type": "markdown",
      "metadata": {
        "id": "1HCPFkqhJN6F"
      },
      "source": [
        "### 3.3.\n",
        "\n"
      ]
    },
    {
      "cell_type": "markdown",
      "metadata": {
        "id": "590_nvfbJN6F"
      },
      "source": [
        "### 3.4. Discussion\n",
        "\n"
      ]
    },
    {
      "cell_type": "markdown",
      "metadata": {
        "id": "Z3exUAhxJN6F"
      },
      "source": [
        "## Problem 4 - Batch Normalization, Dropout, MNIST"
      ]
    },
    {
      "cell_type": "markdown",
      "metadata": {
        "id": "LYIRgnl4JN6F"
      },
      "source": [
        "### 4.4.\n",
        "\n"
      ]
    },
    {
      "cell_type": "markdown",
      "metadata": {
        "id": "5Eltcr8yN12F"
      },
      "source": [
        "### 4.5."
      ]
    },
    {
      "cell_type": "markdown",
      "metadata": {
        "id": "IkZmK76rPIUZ"
      },
      "source": [
        "## Problem 5: Learning Rate, Batch Size, FashionMNIST"
      ]
    },
    {
      "cell_type": "markdown",
      "metadata": {
        "id": "6tLcc_2rPABU"
      },
      "source": [
        "### 5.1"
      ]
    },
    {
      "cell_type": "markdown",
      "metadata": {
        "id": "2oXoWyjVPC9x"
      },
      "source": [
        "### 5.2"
      ]
    },
    {
      "cell_type": "markdown",
      "metadata": {
        "id": "gwZ0zORHPMbx"
      },
      "source": [
        "### 5.3\n"
      ]
    }
  ],
  "metadata": {
    "accelerator": "GPU",
    "colab": {
      "gpuType": "A100",
      "machine_shape": "hm",
      "provenance": []
    },
    "kernelspec": {
      "display_name": "Python 3",
      "name": "python3"
    },
    "language_info": {
      "codemirror_mode": {
        "name": "ipython",
        "version": 3
      },
      "file_extension": ".py",
      "mimetype": "text/x-python",
      "name": "python",
      "nbconvert_exporter": "python",
      "pygments_lexer": "ipython3",
      "version": "3.10.13"
    }
  },
  "nbformat": 4,
  "nbformat_minor": 0
}
