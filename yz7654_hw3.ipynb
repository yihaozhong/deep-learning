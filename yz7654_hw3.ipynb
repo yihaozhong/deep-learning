{
  "cells": [
    {
      "cell_type": "code",
      "execution_count": 1,
      "metadata": {
        "id": "RLryz8mV6w3b"
      },
      "outputs": [],
      "source": [
        "# Yihao Zhong Larry, yz7654, date: 02/23/2024 - onwards\n",
        "# "
      ]
    },
    {
      "cell_type": "markdown",
      "metadata": {},
      "source": [
        "## Problem 1 -  Softmax Activation Function"
      ]
    },
    {
      "cell_type": "markdown",
      "metadata": {},
      "source": [
        "### 1.1. logarithmic derivative\n"
      ]
    },
    {
      "cell_type": "markdown",
      "metadata": {},
      "source": [
        "Given that for each real-valued outputs $v_1$, $v_2$, ..., $v_k$, $o_i = \\frac{exp(v_i)}{\\sum^k_{j=1}{exp(v_j)}}$\n",
        "\n",
        "For the case where $i=j$, we consider the derivative of $o_i$ with respect to $v_i$.\n",
        "\n",
        "Take logarithm: $$ln(o_i) = ln(\\frac{exp(v_i)}{\\sum^k_{j=1}{exp(v_j)}}) = v_i-ln(\\sum^k_{j=1}{exp(v_j)})$$\n",
        "\n",
        "Taking the derivative of both sides with respect to $v_i$: \n",
        "$$\\frac{d}{dv_i} ln(o_i) = 1 - \\frac{1}{\\sum^k_{j=1}{exp(v_j)}}e^{v_i}$$\n",
        "\n",
        "Since $o_i = \\frac{exp(v_i)}{\\sum^k_{j=1}{exp(v_j)}}$, we have $$ \\frac{d}{dv_i} ln(o_i) = 1-o_i $$\n",
        "\n",
        "To find $\\frac{\\partial{o_i}}{\\partial{v_j}}$, we know that $\\frac{\\partial}{\\partial{x_j}}ln(f(x)) = \\frac{1}{f(x)}\\frac{\\partial{f(x)}}{\\partial{x_j}}$ by logarithmic derivative.\n",
        "\n",
        "Therefore, $$\\frac{\\partial{o_i}}{\\partial{v_j}} = o_i(1-o_i)$$\n",
        "\n",
        "\n",
        "For the case $i \\neq j$, we have start similarly by applying the logarithm to $i$, but take the derivative with respect to $v_j$.\n",
        "\n",
        "Take logarithm: $$ln(o_i) = ln(\\frac{exp(v_i)}{\\sum^k_{j=1}{exp(v_j)}})$$\n",
        "\n",
        "Taking the derivative with respect to $v_j$: $$\\frac{d}{dv_j} ln(o_i) =-\\frac{e^{v_j}}{\\sum^k_{j=1}{exp(v_j)}}$$ \n",
        "\n",
        "Simply this by definition of $v_j$ we have: $$\\frac{d}{dv_j} ln(o_i) = -o_j$$\n",
        "\n",
        "To find $\\frac{\\partial{o_i}}{\\partial{v_j}}$, we know that $\\frac{\\partial}{\\partial{x_j}}ln(f(x)) = \\frac{1}{f(x)}\\frac{\\partial{f(x)}}{\\partial{x_j}}$ by logarithmic derivative.\n",
        "\n",
        "Therefore, $$\\frac{\\partial{o_i}}{\\partial{v_j}} = -o_io_j$$"
      ]
    },
    {
      "cell_type": "code",
      "execution_count": null,
      "metadata": {},
      "outputs": [],
      "source": []
    },
    {
      "cell_type": "markdown",
      "metadata": {},
      "source": [
        "### 1.2. "
      ]
    },
    {
      "cell_type": "code",
      "execution_count": null,
      "metadata": {},
      "outputs": [],
      "source": []
    },
    {
      "cell_type": "markdown",
      "metadata": {},
      "source": [
        "### 1.3. "
      ]
    },
    {
      "cell_type": "code",
      "execution_count": null,
      "metadata": {},
      "outputs": [],
      "source": []
    },
    {
      "cell_type": "markdown",
      "metadata": {},
      "source": [
        "### 1.4."
      ]
    },
    {
      "cell_type": "code",
      "execution_count": null,
      "metadata": {},
      "outputs": [],
      "source": []
    },
    {
      "cell_type": "markdown",
      "metadata": {},
      "source": [
        "### 1.5."
      ]
    },
    {
      "cell_type": "markdown",
      "metadata": {},
      "source": []
    },
    {
      "cell_type": "markdown",
      "metadata": {},
      "source": [
        "## Problem 2 - "
      ]
    },
    {
      "cell_type": "markdown",
      "metadata": {},
      "source": [
        "### 2.1. ROC and PR"
      ]
    },
    {
      "cell_type": "markdown",
      "metadata": {},
      "source": [
        "### 2.2. Adaboost and Logistic regression"
      ]
    },
    {
      "cell_type": "markdown",
      "metadata": {},
      "source": [
        "## Problem 3 - "
      ]
    },
    {
      "cell_type": "markdown",
      "metadata": {},
      "source": [
        "### 3.1. \n"
      ]
    },
    {
      "cell_type": "markdown",
      "metadata": {},
      "source": [
        "### 3.2 \n",
        "\n",
        "\n",
        "\n",
        "\n"
      ]
    },
    {
      "cell_type": "markdown",
      "metadata": {},
      "source": [
        "### 3.3. \n",
        "\n"
      ]
    },
    {
      "cell_type": "markdown",
      "metadata": {},
      "source": [
        "### 3.4. Discussion\n",
        "\n"
      ]
    },
    {
      "cell_type": "markdown",
      "metadata": {},
      "source": [
        "## Problem 4 - "
      ]
    },
    {
      "cell_type": "markdown",
      "metadata": {},
      "source": [
        "### 4.1. Plot"
      ]
    },
    {
      "cell_type": "markdown",
      "metadata": {},
      "source": [
        "#### 4.1. Written Answer\n",
        "\n"
      ]
    },
    {
      "cell_type": "markdown",
      "metadata": {},
      "source": [
        "### 4.2. \n",
        "\n"
      ]
    },
    {
      "cell_type": "markdown",
      "metadata": {},
      "source": [
        "### 4.3. "
      ]
    },
    {
      "cell_type": "markdown",
      "metadata": {},
      "source": [
        "### 4.4. \n",
        "\n"
      ]
    }
  ],
  "metadata": {
    "colab": {
      "provenance": []
    },
    "kernelspec": {
      "display_name": "Python 3",
      "name": "python3"
    },
    "language_info": {
      "codemirror_mode": {
        "name": "ipython",
        "version": 3
      },
      "file_extension": ".py",
      "mimetype": "text/x-python",
      "name": "python",
      "nbconvert_exporter": "python",
      "pygments_lexer": "ipython3",
      "version": "3.10.11"
    }
  },
  "nbformat": 4,
  "nbformat_minor": 0
}
