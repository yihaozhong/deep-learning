{
  "cells": [
    {
      "cell_type": "code",
      "execution_count": 91,
      "metadata": {
        "id": "RLryz8mV6w3b"
      },
      "outputs": [],
      "source": [
        "# Yihao Zhong Larry, yz7654, date: 02/23/2024 - onwards\n",
        "# "
      ]
    },
    {
      "cell_type": "markdown",
      "metadata": {},
      "source": [
        "## Problem 1 -  Softmax Activation Function"
      ]
    },
    {
      "cell_type": "markdown",
      "metadata": {},
      "source": [
        "### 1.1. logarithmic derivative\n"
      ]
    },
    {
      "cell_type": "markdown",
      "metadata": {},
      "source": [
        "Given that for each real-valued outputs $v_1$, $v_2$, ..., $v_k$, $o_i = \\frac{exp(v_i)}{\\sum^k_{j=1}{exp(v_j)}}$\n",
        "\n",
        "For the case where $i=j$, we consider the derivative of $o_i$ with respect to $v_i$.\n",
        "\n",
        "Take logarithm: $$ln(o_i) = ln(\\frac{exp(v_i)}{\\sum^k_{j=1}{exp(v_j)}}) = v_i-ln(\\sum^k_{j=1}{exp(v_j)})$$\n",
        "\n",
        "Taking the derivative of both sides with respect to $v_i$: \n",
        "$$\\frac{d}{dv_i} ln(o_i) = 1 - \\frac{1}{\\sum^k_{j=1}{exp(v_j)}}e^{v_i}$$\n",
        "\n",
        "Since $o_i = \\frac{exp(v_i)}{\\sum^k_{j=1}{exp(v_j)}}$, we have $$ \\frac{d}{dv_i} ln(o_i) = 1-o_i $$\n",
        "\n",
        "To find $\\frac{\\partial{o_i}}{\\partial{v_j}}$, we know that $\\frac{\\partial}{\\partial{x_j}}ln(f(x)) = \\frac{1}{f(x)}\\frac{\\partial{f(x)}}{\\partial{x_j}}$ by logarithmic derivative.\n",
        "\n",
        "Therefore, $$\\frac{\\partial{o_i}}{\\partial{v_j}} = o_i(1-o_i)$$\n",
        "\n",
        "\n",
        "For the case $i \\neq j$, we have start similarly by applying the logarithm to $i$, but take the derivative with respect to $v_j$.\n",
        "\n",
        "Take logarithm: $$ln(o_i) = ln(\\frac{exp(v_i)}{\\sum^k_{j=1}{exp(v_j)}})$$\n",
        "\n",
        "Taking the derivative with respect to $v_j$: $$\\frac{d}{dv_j} ln(o_i) =-\\frac{e^{v_j}}{\\sum^k_{j=1}{exp(v_j)}}$$ \n",
        "\n",
        "Simply this by definition of $v_j$ we have: $$\\frac{d}{dv_j} ln(o_i) = -o_j$$\n",
        "\n",
        "To find $\\frac{\\partial{o_i}}{\\partial{v_j}}$, we know that $\\frac{\\partial}{\\partial{x_j}}ln(f(x)) = \\frac{1}{f(x)}\\frac{\\partial{f(x)}}{\\partial{x_j}}$ by logarithmic derivative.\n",
        "\n",
        "Therefore, $$\\frac{\\partial{o_i}}{\\partial{v_j}} = -o_io_j$$"
      ]
    },
    {
      "cell_type": "markdown",
      "metadata": {},
      "source": [
        "### 1.2. "
      ]
    },
    {
      "cell_type": "markdown",
      "metadata": {},
      "source": []
    },
    {
      "cell_type": "markdown",
      "metadata": {},
      "source": []
    },
    {
      "cell_type": "markdown",
      "metadata": {},
      "source": [
        "## Problem 2 -  Neural Network Training and Backpropagation"
      ]
    },
    {
      "cell_type": "code",
      "execution_count": 92,
      "metadata": {},
      "outputs": [
        {
          "name": "stdout",
          "output_type": "stream",
          "text": [
            "(5000, 400) (5000, 1)\n",
            "(5000, 10)\n"
          ]
        },
        {
          "name": "stderr",
          "output_type": "stream",
          "text": [
            "/Users/zhongyihao/anaconda3/lib/python3.10/site-packages/sklearn/preprocessing/_encoders.py:828: FutureWarning: `sparse` was renamed to `sparse_output` in version 1.2 and will be removed in 1.4. `sparse_output` is ignored unless you leave `sparse` to its default value.\n",
            "  warnings.warn(\n"
          ]
        }
      ],
      "source": [
        "import numpy as np\n",
        "import pandas as pd\n",
        "import matplotlib.pyplot as plt\n",
        "from scipy.io import loadmat\n",
        "%matplotlib inline\n",
        "\n",
        "data = loadmat('data/ex3data1.mat')\n",
        "X = data['X']\n",
        "y = data['y']\n",
        "\n",
        "print(X.shape, y.shape)\n",
        "\n",
        "from sklearn.preprocessing import OneHotEncoder\n",
        "encoder = OneHotEncoder(sparse=False)\n",
        "y_onehot = encoder.fit_transform(y)\n",
        "print(y_onehot.shape)"
      ]
    },
    {
      "cell_type": "markdown",
      "metadata": {},
      "source": [
        "### 2.1."
      ]
    },
    {
      "cell_type": "code",
      "execution_count": 93,
      "metadata": {},
      "outputs": [],
      "source": [
        "def scaled_sigmoid(z):\n",
        "    return 1 / (1 + np.exp(-2 * z))\n"
      ]
    },
    {
      "cell_type": "markdown",
      "metadata": {},
      "source": [
        "### 2.2. forward_propagate()"
      ]
    },
    {
      "cell_type": "code",
      "execution_count": 94,
      "metadata": {},
      "outputs": [],
      "source": [
        "def forward_propagate(X, theta1, theta2, theta3):\n",
        "    m = X.shape[0]\n",
        "    \n",
        "    # Input layer activations (adding bias unit)\n",
        "    a1 = np.insert(X, 0, values=np.ones(m), axis=1)\n",
        "\n",
        "    z2 = a1 * (theta1.T)\n",
        "    a2 = np.insert(scaled_sigmoid(z2), 0, values=np.ones(m), axis=1)\n",
        "    \n",
        "    z3 = a2 * (theta2.T)\n",
        "    a3 = np.insert(scaled_sigmoid(z3), 0, values=np.ones(m), axis=1)\n",
        "    \n",
        "    z4 = a3 * (theta3.T)\n",
        "    h = scaled_sigmoid(z4)\n",
        "    \n",
        "    return a1, z2, a2, z3, a3, z4, h\n"
      ]
    },
    {
      "cell_type": "markdown",
      "metadata": {},
      "source": [
        "### 2.3. cost()"
      ]
    },
    {
      "cell_type": "code",
      "execution_count": 95,
      "metadata": {},
      "outputs": [],
      "source": [
        "def cost(params, input_size, hidden_size1, hidden_size2, num_labels, X, y, learning_rate):\n",
        "    m = X.shape[0]\n",
        "    X = np.matrix(X)\n",
        "    y = np.matrix(y)\n",
        "    \n",
        "    end_theta1 = hidden_size1 * (input_size + 1)\n",
        "    end_theta2 = end_theta1 + hidden_size2 * (hidden_size1 + 1)\n",
        "    theta1 = np.reshape(params[:end_theta1], (hidden_size1, input_size + 1))\n",
        "    theta2 = np.reshape(params[end_theta1:end_theta2], (hidden_size2, hidden_size1 + 1))\n",
        "    theta3 = np.reshape(params[end_theta2:], (num_labels, hidden_size2 + 1))\n",
        "    \n",
        "    # just need the output of the last layer\n",
        "    _, _, _, _, _, _, h = forward_propagate(X, theta1, theta2, theta3)\n",
        "    \n",
        "    # Compute the cost\n",
        "    J = 0\n",
        "    for i in range(m):\n",
        "        first_term = np.multiply(-y[i, :], np.log(h[i, :]))\n",
        "        second_term = np.multiply((1 - y[i, :]), np.log(1 - h[i, :]))\n",
        "        J += np.sum(first_term - second_term)\n",
        "    J = J / m\n",
        "\n",
        "    return J\n",
        "\n",
        "def cost_with_regulazation(params, input_size, hidden_size1, hidden_size2, num_labels, X, y, learning_rate):\n",
        "    m = X.shape[0]\n",
        "    X = np.matrix(X)\n",
        "    y = np.matrix(y)\n",
        "    \n",
        "    end_theta1 = hidden_size1 * (input_size + 1)\n",
        "    end_theta2 = end_theta1 + hidden_size2 * (hidden_size1 + 1)\n",
        "    theta1 = np.reshape(params[:end_theta1], (hidden_size1, input_size + 1))\n",
        "    theta2 = np.reshape(params[end_theta1:end_theta2], (hidden_size2, hidden_size1 + 1))\n",
        "    theta3 = np.reshape(params[end_theta2:], (num_labels, hidden_size2 + 1))\n",
        "    \n",
        "    # just need the output of the last layer\n",
        "    _, _, _, _, _, _, h = forward_propagate(X, theta1, theta2, theta3)\n",
        "    \n",
        "    # Compute the cost\n",
        "    J = 0\n",
        "    for i in range(m):\n",
        "        first_term = np.multiply(-y[i, :], np.log(h[i, :]))\n",
        "        second_term = np.multiply((1 - y[i, :]), np.log(1 - h[i, :]))\n",
        "        J += np.sum(first_term - second_term)\n",
        "    J = J / m\n",
        "\n",
        "    J += (float(learning_rate) / (2 * m)) \\\n",
        "            * (np.sum(np.square(theta1[:, 1:])) \\\n",
        "                + np.sum(np.square(theta2[:, 1:])) + np.sum(np.square(theta3[:, 1:])))\n",
        "    return J\n",
        "\n"
      ]
    },
    {
      "cell_type": "code",
      "execution_count": 96,
      "metadata": {},
      "outputs": [
        {
          "name": "stdout",
          "output_type": "stream",
          "text": [
            "Theta1 shape: (25, 401)\n",
            "Theta2 shape: (25, 26)\n",
            "Theta3 shape: (10, 26)\n"
          ]
        }
      ],
      "source": [
        "# Initial setup\n",
        "input_size = 400  # Size of input layer\n",
        "hidden_size1 = 20  # Size of first hidden layer\n",
        "hidden_size2 = 20  # Size of second hidden layer\n",
        "num_labels = 10  # Size of output layer\n",
        "learning_rate = 1\n",
        "\n",
        "m = X.shape[0]\n",
        "X = np.matrix(X)\n",
        "y = np.matrix(y)\n",
        "\n",
        "# Randomly initialize parameters for the full network's parameters, adjusted for 3 layers\n",
        "params_size = (input_size + 1) * hidden_size1 + (hidden_size1 + 1) * hidden_size2 + (hidden_size2 + 1) * num_labels\n",
        "params = (np.random.random(size=params_size) - 0.5) * 0.25\n",
        "\n",
        "# Unravel the parameter array into parameter matrices for each layer\n",
        "end_theta1 = hidden_size1 * (input_size + 1)\n",
        "end_theta2 = end_theta1 + hidden_size2 * (hidden_size1 + 1)\n",
        "\n",
        "theta1 = np.matrix(np.reshape(params[:end_theta1], (hidden_size1, input_size + 1)))\n",
        "theta2 = np.matrix(np.reshape(params[end_theta1:end_theta2], (hidden_size2, hidden_size1 + 1)))\n",
        "theta3 = np.matrix(np.reshape(params[end_theta2:], (num_labels, hidden_size2 + 1)))\n",
        "\n",
        "print(f\"Theta1 shape: {theta1.shape}\")  \n",
        "print(f\"Theta2 shape: {theta2.shape}\")  \n",
        "print(f\"Theta3 shape: {theta3.shape}\")  "
      ]
    },
    {
      "cell_type": "code",
      "execution_count": 97,
      "metadata": {},
      "outputs": [
        {
          "name": "stdout",
          "output_type": "stream",
          "text": [
            "cost without regularization:  7.447201218857694\n",
            "cost with regularization:  7.452858423785688\n",
            "a1: (5000, 401), z2: (5000, 25), a2: (5000, 26), z3: (5000, 25), a3: (5000, 26), z4: (5000, 10), h: (5000, 10)\n"
          ]
        }
      ],
      "source": [
        "print(\"cost without regularization: \", \n",
        "      cost(params, input_size, hidden_size1, hidden_size2, num_labels, X, y_onehot, learning_rate))\n",
        "print(\"cost with regularization: \", \n",
        "      cost_with_regulazation(params, input_size, hidden_size1, hidden_size2, num_labels, X, y_onehot, learning_rate))\n",
        "a1, z2, a2, z3, a3, z4, h = forward_propagate(X, theta1, theta2, theta3)\n",
        "print(f\"a1: {a1.shape}, z2: {z2.shape}, a2: {a2.shape}, z3: {z3.shape}, a3: {a3.shape}, z4: {z4.shape}, h: {h.shape}\")"
      ]
    },
    {
      "cell_type": "markdown",
      "metadata": {},
      "source": [
        "### 2.4. sigmoid gradient\n",
        "\n"
      ]
    },
    {
      "cell_type": "code",
      "execution_count": 98,
      "metadata": {},
      "outputs": [],
      "source": [
        "\n",
        "def scaled_sigmoid_gradient(z):\n",
        "    return np.multiply(scaled_sigmoid(z), (1 - scaled_sigmoid(z)))"
      ]
    },
    {
      "cell_type": "markdown",
      "metadata": {},
      "source": [
        "### 2.5. backprop()"
      ]
    },
    {
      "cell_type": "code",
      "execution_count": 99,
      "metadata": {},
      "outputs": [],
      "source": [
        "def get_theta_shapes(input_size, hidden_size1, hidden_size2, num_labels):\n",
        "    \"\"\"\n",
        "    Returns the shapes of theta matrices for each layer in the network.\n",
        "    \"\"\"\n",
        "    theta1_shape = (hidden_size1, input_size + 1)\n",
        "    theta2_shape = (hidden_size2, hidden_size1 + 1)\n",
        "    theta3_shape = (num_labels, hidden_size2 + 1)\n",
        "    return theta1_shape, theta2_shape, theta3_shape\n",
        "\n",
        "def reshape_params(params, shapes):\n",
        "    \"\"\"\n",
        "    Reshapes the flattened parameter array into individual theta matrices.\n",
        "    \"\"\"\n",
        "    theta1_shape, theta2_shape, theta3_shape = shapes\n",
        "    size1 = theta1_shape[0] * theta1_shape[1]\n",
        "    size2 = size1 + theta2_shape[0] * theta2_shape[1]\n",
        "    \n",
        "    theta1 = params[:size1].reshape(theta1_shape)\n",
        "    theta2 = params[size1:size2].reshape(theta2_shape)\n",
        "    theta3 = params[size2:].reshape(theta3_shape)\n",
        "    \n",
        "    return theta1, theta2, theta3\n"
      ]
    },
    {
      "cell_type": "code",
      "execution_count": 100,
      "metadata": {},
      "outputs": [],
      "source": [
        "def backprop(params, input_size, hidden_size1, hidden_size2, num_labels, X, y, learning_rate):\n",
        "    m = X.shape[0]\n",
        "    X = np.matrix(X)\n",
        "    y = np.matrix(y)\n",
        "    \n",
        "    theta_shapes = get_theta_shapes(input_size, hidden_size1, hidden_size2, num_labels)\n",
        "    theta1, theta2, theta3 = reshape_params(params, theta_shapes)\n",
        "    \n",
        "    a1, z2, a2, z3, a3, z4, h = forward_propagate(X, theta1, theta2, theta3)\n",
        "    \n",
        "    # Gradients initialization\n",
        "    delta1 = np.zeros(theta1.shape)\n",
        "    delta2 = np.zeros(theta2.shape)\n",
        "    delta3 = np.zeros(theta3.shape)\n",
        "\n",
        "    # Compute cost\n",
        "    J = cost_with_regulazation(params, input_size, hidden_size1, hidden_size2, num_labels, X, y, learning_rate)\n",
        "    \n",
        "    # Compute gradients (Backpropagation)\n",
        "    for t in range(m):\n",
        "        a1t = a1[t,:] \n",
        "        z2t = z2[t,:] \n",
        "        a2t = a2[t,:]  \n",
        "        ht = h[t,:]  \n",
        "        yt = y[t,:]\n",
        "        \n",
        "        d4 = ht - yt\n",
        "        d3 = np.multiply((theta3.T * d4.T).T, scaled_sigmoid_gradient(np.insert(z3[t], 0, values=1)))\n",
        "        d2 = np.multiply((theta2.T * d3[:,1:].T).T, scaled_sigmoid_gradient(np.insert(z2[t], 0, values=1)))\n",
        "        \n",
        "        delta3 += d4.T * a3[t]\n",
        "        delta2 += d3[:,1:].T * a2t  \n",
        "        delta1 += d2[:,1:].T * a1t  \n",
        "    \n",
        "    delta1 = delta1 / m\n",
        "    delta2 = delta2 / m\n",
        "    delta3 = delta3 / m\n",
        "    \n",
        "    # Unroll gradients\n",
        "    grad = np.concatenate((np.ravel(delta1), np.ravel(delta2), np.ravel(delta3)))\n",
        "    \n",
        "    \n",
        "    return J, grad\n",
        "\n",
        "def backprop_with_reg(params, input_size, hidden_size1, hidden_size2, num_labels, X, y, learning_rate):\n",
        "    m = X.shape[0]\n",
        "    X = np.matrix(X)\n",
        "    y = np.matrix(y)\n",
        "    \n",
        "    theta_shapes = get_theta_shapes(input_size, hidden_size1, hidden_size2, num_labels)\n",
        "    theta1, theta2, theta3 = reshape_params(params, theta_shapes)\n",
        "    \n",
        "    a1, z2, a2, z3, a3, z4, h = forward_propagate(X, theta1, theta2, theta3)\n",
        "    \n",
        "    # Gradients initialization\n",
        "    delta1 = np.zeros(theta1.shape)\n",
        "    delta2 = np.zeros(theta2.shape)\n",
        "    delta3 = np.zeros(theta3.shape)\n",
        "\n",
        "    # Compute cost\n",
        "    J = cost_with_regulazation(params, input_size, hidden_size1, hidden_size2, num_labels, X, y, learning_rate)\n",
        "    \n",
        "    # Compute gradients (Backpropagation)\n",
        "    for t in range(m):\n",
        "        a1t = a1[t,:] \n",
        "        z2t = z2[t,:] \n",
        "        a2t = a2[t,:]  \n",
        "        ht = h[t,:]  \n",
        "        yt = y[t,:]\n",
        "        \n",
        "        d4 = ht - yt\n",
        "        d3 = np.multiply((theta3.T * d4.T).T, scaled_sigmoid_gradient(np.insert(z3[t], 0, values=1)))\n",
        "        d2 = np.multiply((theta2.T * d3[:,1:].T).T, scaled_sigmoid_gradient(np.insert(z2[t], 0, values=1)))\n",
        "        \n",
        "        delta3 += d4.T * a3[t]\n",
        "        delta2 += d3[:,1:].T * a2t  \n",
        "        delta1 += d2[:,1:].T * a1t  \n",
        "    \n",
        "    delta1 = delta1 / m\n",
        "    delta2 = delta2 / m\n",
        "    delta3 = delta3 / m\n",
        "    \n",
        "    delta1[:, 1:] += (theta1[:, 1:] * learning_rate) / m\n",
        "    delta2[:, 1:] += (theta2[:, 1:] * learning_rate) / m\n",
        "    delta3[:, 1:] += (theta3[:, 1:] * learning_rate) / m\n",
        "\n",
        "    # Unroll gradients\n",
        "    grad = np.concatenate((np.ravel(delta1), np.ravel(delta2), np.ravel(delta3)))\n",
        "    \n",
        "    return J, grad\n"
      ]
    },
    {
      "cell_type": "code",
      "execution_count": 101,
      "metadata": {},
      "outputs": [
        {
          "name": "stdout",
          "output_type": "stream",
          "text": [
            "Backpropagation cost without regularization: 7.452858423785688, grad shape: (10935,)\n"
          ]
        },
        {
          "name": "stdout",
          "output_type": "stream",
          "text": [
            "Backpropagation cost with regularization: 7.452858423785688, grad shape: (10935,)\n"
          ]
        }
      ],
      "source": [
        "J, grad = backprop(params, input_size, hidden_size1, hidden_size2, num_labels, X, y_onehot, learning_rate)\n",
        "print(f\"Backpropagation cost without regularization: {J}, grad shape: {grad.shape}\")\n",
        "\n",
        "J_reg, grad_reg = backprop_with_reg(params, input_size, hidden_size1, hidden_size2, num_labels, X, y_onehot, learning_rate)\n",
        "print(f\"Backpropagation cost with regularization: {J_reg}, grad shape: {grad_reg.shape}\")"
      ]
    },
    {
      "cell_type": "markdown",
      "metadata": {},
      "source": [
        "### 2.6. & 2.7. Train"
      ]
    },
    {
      "cell_type": "code",
      "execution_count": 102,
      "metadata": {},
      "outputs": [
        {
          "name": "stderr",
          "output_type": "stream",
          "text": [
            "/var/folders/v1/6k_h9wg90q56lxft6dxycw200000gn/T/ipykernel_26624/488540519.py:6: DeprecationWarning: 'maxiter' has been deprecated in favor of 'maxfun' and will be removed in SciPy 1.11.0.\n",
            "  result = minimize(fun=backprop_with_reg, x0=params,\n"
          ]
        },
        {
          "name": "stdout",
          "output_type": "stream",
          "text": [
            " message: Max. number of function evaluations reached\n",
            " success: False\n",
            "  status: 3\n",
            "     fun: 0.13757528041058906\n",
            "       x: [-4.072e-01 -7.874e-04 ...  8.485e-01  9.292e-01]\n",
            "     nit: 33\n",
            "     jac: [ 2.072e-05 -1.575e-07 ...  3.179e-04  4.110e-04]\n",
            "    nfev: 250\n",
            "Optimized cost: 0.13757528041058906\n"
          ]
        }
      ],
      "source": [
        "from scipy.optimize import minimize\n",
        "\n",
        "options = {'maxiter': 250}\n",
        "\n",
        "\n",
        "result = minimize(fun=backprop_with_reg, x0=params, \n",
        "                  args=(input_size, hidden_size1, hidden_size2, num_labels, X, y_onehot, learning_rate), \n",
        "                  method='TNC', jac=True, options=options)\n",
        "\n",
        "\n",
        "params_optimized = result.x\n",
        "cost_optimized = result.fun\n",
        "\n",
        "print(result)\n",
        "print(f\"Optimized cost: {cost_optimized}\")\n"
      ]
    },
    {
      "cell_type": "code",
      "execution_count": 103,
      "metadata": {},
      "outputs": [
        {
          "name": "stdout",
          "output_type": "stream",
          "text": [
            "Accuracy = 99.86%\n"
          ]
        }
      ],
      "source": [
        "end_theta1 = hidden_size1 * (input_size + 1)\n",
        "end_theta2 = end_theta1 + hidden_size2 * (hidden_size1 + 1)\n",
        "\n",
        "\n",
        "theta1 = np.matrix(np.reshape(result.x[:end_theta1], (hidden_size1, input_size + 1)))\n",
        "theta2 = np.matrix(np.reshape(result.x[end_theta1:end_theta2], (hidden_size2, hidden_size1 + 1)))\n",
        "theta3 = np.matrix(np.reshape(result.x[end_theta2:], (num_labels, hidden_size2 + 1)))\n",
        "\n",
        "\n",
        "X = np.matrix(X)\n",
        "# X = np.insert(X, 0, values=np.ones(X.shape[0]), axis=1)\n",
        "\n",
        "a1, z2, a2, z3, a3, z4, h = forward_propagate(X, theta1, theta2, theta3)\n",
        "\n",
        "\n",
        "y_pred = np.array(np.argmax(h, axis=1) + 1)\n",
        "\n",
        "# y = np.squeeze(np.array(y))\n",
        "\n",
        "correct = [1 if a == b else 0 for (a, b) in zip(y_pred, y)]\n",
        "accuracy = (sum(correct) / float(len(correct)))\n",
        "print('Accuracy = {0}%'.format(accuracy * 100))"
      ]
    },
    {
      "cell_type": "markdown",
      "metadata": {},
      "source": [
        "### 2.8. \n",
        "\n",
        "We achieve an accuracy of 99.86% with a 3-layer neural network compared to 99.2% with a 2-layer network from the notebooks. Basically, we add an additional hidden layer increases the complexity of the model. This means the network has more parameters (weights and biases) to adjust during training, allowing it to capture more intricate patterns in the data. A deeper network can learn more complex function. By adding more layers, the network can create more complex representations of the input data."
      ]
    },
    {
      "cell_type": "markdown",
      "metadata": {},
      "source": [
        "## Problem 3 - Weight Initialization, Dead Neurons, Leaky ReLU"
      ]
    },
    {
      "cell_type": "markdown",
      "metadata": {},
      "source": [
        "### 3.1. \n"
      ]
    },
    {
      "cell_type": "code",
      "execution_count": 108,
      "metadata": {},
      "outputs": [
        {
          "name": "stdout",
          "output_type": "stream",
          "text": [
            "Unexpected exception formatting exception. Falling back to standard exception\n"
          ]
        },
        {
          "name": "stderr",
          "output_type": "stream",
          "text": [
            "Traceback (most recent call last):\n",
            "  File \"/Users/zhongyihao/anaconda3/lib/python3.10/site-packages/IPython/core/interactiveshell.py\", line 3505, in run_code\n",
            "    exec(code_obj, self.user_global_ns, self.user_ns)\n",
            "  File \"/var/folders/v1/6k_h9wg90q56lxft6dxycw200000gn/T/ipykernel_26624/780535670.py\", line 1, in <module>\n",
            "    from keras.models import Sequential\n",
            "  File \"/Users/zhongyihao/anaconda3/lib/python3.10/site-packages/keras/__init__.py\", line 3, in <module>\n",
            "    from keras import __internal__\n",
            "  File \"/Users/zhongyihao/anaconda3/lib/python3.10/site-packages/keras/__internal__/__init__.py\", line 6, in <module>\n",
            "    from keras.__internal__ import models\n",
            "  File \"/Users/zhongyihao/anaconda3/lib/python3.10/site-packages/keras/__internal__/models/__init__.py\", line 3, in <module>\n",
            "    from keras.src.models.cloning import clone_and_build_model\n",
            "  File \"/Users/zhongyihao/anaconda3/lib/python3.10/site-packages/keras/src/__init__.py\", line 21, in <module>\n",
            "    from keras.src import applications\n",
            "  File \"/Users/zhongyihao/anaconda3/lib/python3.10/site-packages/keras/src/applications/__init__.py\", line 41, in <module>\n",
            "    from keras.src.applications.inception_resnet_v2 import InceptionResNetV2\n",
            "  File \"/Users/zhongyihao/anaconda3/lib/python3.10/site-packages/keras/src/applications/inception_resnet_v2.py\", line 324, in <module>\n",
            "    @keras.utils.register_keras_serializable()\n",
            "AttributeError: partially initialized module 'keras.src' has no attribute 'utils' (most likely due to a circular import)\n",
            "\n",
            "During handling of the above exception, another exception occurred:\n",
            "\n",
            "Traceback (most recent call last):\n",
            "  File \"/Users/zhongyihao/anaconda3/lib/python3.10/site-packages/IPython/core/interactiveshell.py\", line 2102, in showtraceback\n",
            "    stb = self.InteractiveTB.structured_traceback(\n",
            "  File \"/Users/zhongyihao/anaconda3/lib/python3.10/site-packages/IPython/core/ultratb.py\", line 1310, in structured_traceback\n",
            "    return FormattedTB.structured_traceback(\n",
            "  File \"/Users/zhongyihao/anaconda3/lib/python3.10/site-packages/IPython/core/ultratb.py\", line 1199, in structured_traceback\n",
            "    return VerboseTB.structured_traceback(\n",
            "  File \"/Users/zhongyihao/anaconda3/lib/python3.10/site-packages/IPython/core/ultratb.py\", line 1052, in structured_traceback\n",
            "    formatted_exception = self.format_exception_as_a_whole(etype, evalue, etb, number_of_lines_of_context,\n",
            "  File \"/Users/zhongyihao/anaconda3/lib/python3.10/site-packages/IPython/core/ultratb.py\", line 978, in format_exception_as_a_whole\n",
            "    frames.append(self.format_record(record))\n",
            "  File \"/Users/zhongyihao/anaconda3/lib/python3.10/site-packages/IPython/core/ultratb.py\", line 878, in format_record\n",
            "    frame_info.lines, Colors, self.has_colors, lvals\n",
            "  File \"/Users/zhongyihao/anaconda3/lib/python3.10/site-packages/IPython/core/ultratb.py\", line 712, in lines\n",
            "    return self._sd.lines\n",
            "  File \"/Users/zhongyihao/anaconda3/lib/python3.10/site-packages/stack_data/utils.py\", line 145, in cached_property_wrapper\n",
            "    value = obj.__dict__[self.func.__name__] = self.func(obj)\n",
            "  File \"/Users/zhongyihao/anaconda3/lib/python3.10/site-packages/stack_data/core.py\", line 698, in lines\n",
            "    pieces = self.included_pieces\n",
            "  File \"/Users/zhongyihao/anaconda3/lib/python3.10/site-packages/stack_data/utils.py\", line 145, in cached_property_wrapper\n",
            "    value = obj.__dict__[self.func.__name__] = self.func(obj)\n",
            "  File \"/Users/zhongyihao/anaconda3/lib/python3.10/site-packages/stack_data/core.py\", line 649, in included_pieces\n",
            "    pos = scope_pieces.index(self.executing_piece)\n",
            "  File \"/Users/zhongyihao/anaconda3/lib/python3.10/site-packages/stack_data/utils.py\", line 145, in cached_property_wrapper\n",
            "    value = obj.__dict__[self.func.__name__] = self.func(obj)\n",
            "  File \"/Users/zhongyihao/anaconda3/lib/python3.10/site-packages/stack_data/core.py\", line 628, in executing_piece\n",
            "    return only(\n",
            "  File \"/Users/zhongyihao/anaconda3/lib/python3.10/site-packages/executing/executing.py\", line 164, in only\n",
            "    raise NotOneValueFound('Expected one value, found 0')\n",
            "executing.executing.NotOneValueFound: Expected one value, found 0\n"
          ]
        }
      ],
      "source": [
        "\n",
        "from keras.models import Sequential\n",
        "from keras.layers import Conv2D, MaxPooling2D, Dense, Dropout, Flatten\n",
        "from keras import backend as K\n",
        "\n",
        "from matplotlib import pyplot as plt\n",
        "from matplotlib import rcParamsDefault\n",
        "\n",
        "## use of code from github.com/intoli/intoli-article-materials/blob/master/articles/neural-network-initialization/utils.py\n",
        "\n",
        "def grid_axes_it(n_plots, n_cols=3, enumerate=False, fig=None):\n",
        "    \"\"\"\n",
        "    Iterate through Axes objects on a grid with n_cols columns and as many\n",
        "    rows as needed to accommodate n_plots many plots.\n",
        "\n",
        "    Args:\n",
        "        n_plots: Number of plots to plot onto figure.\n",
        "        n_cols: Number of columns to divide the figure into.\n",
        "        fig: Optional figure reference.\n",
        "\n",
        "    Yields:\n",
        "        n_plots many Axes objects on a grid.\n",
        "    \"\"\"\n",
        "    n_rows = n_plots / n_cols + int(n_plots % n_cols > 0)\n",
        "\n",
        "    if not fig:\n",
        "        default_figsize = rcParamsDefault['figure.figsize']\n",
        "        fig = plt.figure(figsize=(\n",
        "            default_figsize[0] * n_cols,\n",
        "            default_figsize[1] * n_rows\n",
        "        ))\n",
        "\n",
        "    for i in range(1, n_plots + 1):\n",
        "        ax = plt.subplot(n_rows, n_cols, i)\n",
        "        yield ax\n",
        "\n",
        "\n",
        "def create_mlp_model(\n",
        "    n_hidden_layers,\n",
        "    dim_layer,\n",
        "    input_shape,\n",
        "    n_classes,\n",
        "    kernel_initializer,\n",
        "    bias_initializer,\n",
        "    activation,\n",
        "):\n",
        "    \"\"\"Create Multi-Layer Perceptron with given parameters.\"\"\"\n",
        "    model = Sequential()\n",
        "    model.add(Dense(dim_layer, input_shape=input_shape, kernel_initializer=kernel_initializer,\n",
        "                    bias_initializer=bias_initializer))\n",
        "    for i in range(n_hidden_layers):\n",
        "        model.add(Dense(dim_layer, activation=activation, kernel_initializer=kernel_initializer,\n",
        "                        bias_initializer=bias_initializer))\n",
        "    model.add(Dense(n_classes, activation='softmax', kernel_initializer=kernel_initializer,\n",
        "                    bias_initializer=bias_initializer))\n",
        "    return model\n",
        "\n",
        "\n",
        "def create_cnn_model(input_shape, num_classes, kernel_initializer='glorot_uniform',\n",
        "                     bias_initializer='zeros'):\n",
        "    \"\"\"Create CNN model similar to\n",
        "       https://github.com/keras-team/keras/blob/master/examples/mnist_cnn.py.\"\"\"\n",
        "    model = Sequential()\n",
        "    model.add(Conv2D(32, kernel_size=(3, 3),\n",
        "                     activation='relu',\n",
        "                     input_shape=input_shape,\n",
        "                     kernel_initializer=kernel_initializer,\n",
        "                     bias_initializer=bias_initializer))\n",
        "    model.add(Conv2D(64, (3, 3), activation='relu',\n",
        "                     kernel_initializer=kernel_initializer,\n",
        "                     bias_initializer=bias_initializer))\n",
        "    model.add(MaxPooling2D(pool_size=(2, 2)))\n",
        "    model.add(Dropout(0.25))\n",
        "    model.add(Flatten())\n",
        "    model.add(Dense(128, activation='relu',\n",
        "                    kernel_initializer=kernel_initializer,\n",
        "                    bias_initializer=bias_initializer))\n",
        "    model.add(Dropout(0.5))\n",
        "    model.add(Dense(num_classes, activation='softmax',\n",
        "                    kernel_initializer=kernel_initializer,\n",
        "                    bias_initializer=bias_initializer))\n",
        "    return model\n",
        "\n",
        "\n",
        "def compile_model(model):\n",
        "    model.compile(loss=keras.losses.categorical_crossentropy,\n",
        "                  optimizer=keras.optimizers.RMSprop(),\n",
        "                  metrics=['accuracy'])\n",
        "    return model\n",
        "\n",
        "\n",
        "def get_init_id(init):\n",
        "    \"\"\"\n",
        "    Returns string ID summarizing initialization scheme and its parameters.\n",
        "\n",
        "    Args:\n",
        "        init: Instance of some initializer from keras.initializers.\n",
        "    \"\"\"\n",
        "    try:\n",
        "        init_name = str(init).split('.')[2].split(' ')[0]\n",
        "    except:\n",
        "        init_name = str(init).split(' ')[0].replace('.', '_')\n",
        "\n",
        "    param_list = []\n",
        "    config = init.get_config()\n",
        "    for k, v in config.items():\n",
        "        if k == 'seed':\n",
        "            continue\n",
        "        param_list.append('{k}-{v}'.format(k=k, v=v))\n",
        "    init_params = '__'.join(param_list)\n",
        "\n",
        "    return '|'.join([init_name, init_params])\n",
        "\n",
        "\n",
        "def get_activations(model, x, mode=0.0):\n",
        "    \"\"\"Extract activations with given model and input vector x.\"\"\"\n",
        "    outputs = [layer.output for layer in model.layers]\n",
        "    activations = K.function([model.input], outputs)\n",
        "    output_elts = activations([x, mode])\n",
        "    return output_elts\n",
        "\n",
        "\n",
        "class LossHistory(keras.callbacks.Callback):\n",
        "    \"\"\"A custom keras callback for recording losses during network training.\"\"\"\n",
        "\n",
        "    def on_train_begin(self, logs={}):\n",
        "        self.losses = []\n",
        "        self.epoch_losses = []\n",
        "        self.epoch_val_losses = []\n",
        "\n",
        "    def on_batch_end(self, batch, logs={}):\n",
        "        self.losses.append(logs.get('loss'))\n",
        "\n",
        "    def on_epoch_end(self, epoch, logs={}):\n",
        "        self.epoch_losses.append(logs.get('loss'))\n",
        "        self.epoch_val_losses.append(logs.get('val_loss'))"
      ]
    },
    {
      "cell_type": "markdown",
      "metadata": {},
      "source": [
        "### 3.2 \n",
        "\n",
        "\n",
        "\n",
        "\n"
      ]
    },
    {
      "cell_type": "markdown",
      "metadata": {},
      "source": [
        "### 3.3. \n",
        "\n"
      ]
    },
    {
      "cell_type": "markdown",
      "metadata": {},
      "source": [
        "### 3.4. Discussion\n",
        "\n"
      ]
    },
    {
      "cell_type": "markdown",
      "metadata": {},
      "source": [
        "## Problem 4 - "
      ]
    },
    {
      "cell_type": "markdown",
      "metadata": {},
      "source": [
        "### 4.1. Plot"
      ]
    },
    {
      "cell_type": "markdown",
      "metadata": {},
      "source": [
        "#### 4.1. Written Answer\n",
        "\n"
      ]
    },
    {
      "cell_type": "markdown",
      "metadata": {},
      "source": [
        "### 4.2. \n",
        "\n"
      ]
    },
    {
      "cell_type": "markdown",
      "metadata": {},
      "source": [
        "### 4.3. "
      ]
    },
    {
      "cell_type": "markdown",
      "metadata": {},
      "source": [
        "### 4.4. \n",
        "\n"
      ]
    }
  ],
  "metadata": {
    "colab": {
      "provenance": []
    },
    "kernelspec": {
      "display_name": "Python 3",
      "name": "python3"
    },
    "language_info": {
      "codemirror_mode": {
        "name": "ipython",
        "version": 3
      },
      "file_extension": ".py",
      "mimetype": "text/x-python",
      "name": "python",
      "nbconvert_exporter": "python",
      "pygments_lexer": "ipython3",
      "version": "3.10.11"
    }
  },
  "nbformat": 4,
  "nbformat_minor": 0
}
