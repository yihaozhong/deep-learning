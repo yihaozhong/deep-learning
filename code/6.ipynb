{
 "cells": [
  {
   "cell_type": "markdown",
   "metadata": {},
   "source": [
    "# Homework 6\n",
    "\n",
    "Yihao Zhong"
   ]
  },
  {
   "cell_type": "markdown",
   "metadata": {},
   "source": [
    "## Problem 1"
   ]
  },
  {
   "cell_type": "markdown",
   "metadata": {},
   "source": [
    "## Problem 2"
   ]
  },
  {
   "cell_type": "markdown",
   "metadata": {},
   "source": [
    "### 1."
   ]
  },
  {
   "cell_type": "markdown",
   "metadata": {},
   "source": [
    "### 2. "
   ]
  },
  {
   "cell_type": "code",
   "execution_count": null,
   "metadata": {},
   "outputs": [],
   "source": [
    "!pip install autofeat"
   ]
  },
  {
   "cell_type": "code",
   "execution_count": 37,
   "metadata": {},
   "outputs": [],
   "source": [
    "import numpy as np\n",
    "import pandas as pd\n",
    "import matplotlib.pyplot as plt\n",
    "from sklearn.model_selection import train_test_split\n",
    "from autofeat import FeatureSelector, AutoFeatRegressor\n",
    "from sklearn import datasets\n",
    "from sklearn.linear_model import LinearRegression"
   ]
  },
  {
   "cell_type": "code",
   "execution_count": 15,
   "metadata": {},
   "outputs": [
    {
     "name": "stdout",
     "output_type": "stream",
     "text": [
      "Original number of features:  10\n"
     ]
    }
   ],
   "source": [
    "# Load the diabetes dataset and get the featues and target\n",
    "X, y = datasets.load_diabetes(return_X_y=True)\n",
    "\n",
    "print(\"Original number of features: \", X.shape[1])"
   ]
  },
  {
   "cell_type": "code",
   "execution_count": 17,
   "metadata": {},
   "outputs": [
    {
     "name": "stderr",
     "output_type": "stream",
     "text": [
      "2024-04-26 15:38:02,876 INFO: [featsel] Feature selection run 1/5\n",
      "2024-04-26 15:38:02,913 INFO: [featsel] Feature selection run 2/5\n",
      "2024-04-26 15:38:02,944 INFO: [featsel] Feature selection run 3/5\n",
      "2024-04-26 15:38:02,974 INFO: [featsel] Feature selection run 4/5\n",
      "2024-04-26 15:38:03,004 INFO: [featsel] Feature selection run 5/5\n",
      "2024-04-26 15:38:03,035 INFO: [featsel] 7 features after 5 feature selection runs\n",
      "2024-04-26 15:38:03,036 INFO: [featsel] 7 features after correlation filtering\n",
      "2024-04-26 15:38:03,045 INFO: [featsel] 6 features after noise filtering\n"
     ]
    },
    {
     "name": "stdout",
     "output_type": "stream",
     "text": [
      "[featsel] Scaling data...done.\n",
      "New number of features:  6\n"
     ]
    }
   ],
   "source": [
    "fsel = FeatureSelector(verbose=1)\n",
    "\n",
    "# Fit it on the train dataset\n",
    "df = fsel.fit_transform(X, y)\n",
    "print(\"New number of features: \", df.shape[1])\n"
   ]
  },
  {
   "cell_type": "markdown",
   "metadata": {},
   "source": [
    "### 3."
   ]
  },
  {
   "cell_type": "code",
   "execution_count": 42,
   "metadata": {},
   "outputs": [
    {
     "name": "stdout",
     "output_type": "stream",
     "text": [
      "R2 score on the training set:  0.5279193863361498\n",
      "R2 score on the test set:  0.45260276297191915\n"
     ]
    }
   ],
   "source": [
    "# Perform a train-test split on your dataset. Select a regression model from skLearn and fit it to the\n",
    "# training dataset. What is the R2 score on the training and test set?\n",
    "\n",
    "# Perform a train test split\n",
    "X_train, X_test, y_train, y_test = train_test_split(X, y, test_size=0.2, random_state=42)\n",
    "\n",
    "# Fit the model\n",
    "rreg_model = LinearRegression()\n",
    "result_logistic = rreg_model.fit(X_train, y_train)\n",
    "\n",
    "print(\"R2 score on the training set: \", result_logistic.score(X_train, y_train))\n",
    "print(\"R2 score on the test set: \", result_logistic.score(X_test, y_test))\n"
   ]
  },
  {
   "cell_type": "markdown",
   "metadata": {},
   "source": [
    "## Problem 3"
   ]
  },
  {
   "cell_type": "markdown",
   "metadata": {},
   "source": [
    "## Problem 4"
   ]
  },
  {
   "cell_type": "markdown",
   "metadata": {},
   "source": [
    "## Problem 5"
   ]
  },
  {
   "cell_type": "markdown",
   "metadata": {},
   "source": [
    "## Problem 6"
   ]
  },
  {
   "cell_type": "markdown",
   "metadata": {},
   "source": [
    "## Problem 7"
   ]
  }
 ],
 "metadata": {
  "kernelspec": {
   "display_name": "torch_nightly_env",
   "language": "python",
   "name": "python3"
  },
  "language_info": {
   "codemirror_mode": {
    "name": "ipython",
    "version": 3
   },
   "file_extension": ".py",
   "mimetype": "text/x-python",
   "name": "python",
   "nbconvert_exporter": "python",
   "pygments_lexer": "ipython3",
   "version": "3.10.11"
  }
 },
 "nbformat": 4,
 "nbformat_minor": 2
}
