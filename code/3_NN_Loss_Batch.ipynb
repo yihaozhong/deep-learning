{
  "cells": [
    {
      "cell_type": "code",
      "execution_count": 28,
      "metadata": {
        "id": "RLryz8mV6w3b"
      },
      "outputs": [],
      "source": [
        "# Yihao Zhong Larry, yz7654, date: 02/23/2024 - onwards\n",
        "# "
      ]
    },
    {
      "cell_type": "markdown",
      "metadata": {},
      "source": [
        "## Problem 1 -  Softmax Activation Function"
      ]
    },
    {
      "cell_type": "markdown",
      "metadata": {},
      "source": [
        "### 1.1. logarithmic derivative\n"
      ]
    },
    {
      "cell_type": "markdown",
      "metadata": {},
      "source": [
        "Given that for each real-valued outputs $v_1$, $v_2$, ..., $v_k$, $o_i = \\frac{exp(v_i)}{\\sum^k_{j=1}{exp(v_j)}}$\n",
        "\n",
        "For the case where $i=j$, we consider the derivative of $o_i$ with respect to $v_i$.\n",
        "\n",
        "Take logarithm: $$ln(o_i) = ln(\\frac{exp(v_i)}{\\sum^k_{j=1}{exp(v_j)}}) = v_i-ln(\\sum^k_{j=1}{exp(v_j)})$$\n",
        "\n",
        "Taking the derivative of both sides with respect to $v_i$: \n",
        "$$\\frac{d}{dv_i} ln(o_i) = 1 - \\frac{1}{\\sum^k_{j=1}{exp(v_j)}}e^{v_i}$$\n",
        "\n",
        "Since $o_i = \\frac{exp(v_i)}{\\sum^k_{j=1}{exp(v_j)}}$, we have $$ \\frac{d}{dv_i} ln(o_i) = 1-o_i $$\n",
        "\n",
        "To find $\\frac{\\partial{o_i}}{\\partial{v_j}}$, we know that $\\frac{\\partial}{\\partial{x_j}}ln(f(x)) = \\frac{1}{f(x)}\\frac{\\partial{f(x)}}{\\partial{x_j}}$ by logarithmic derivative.\n",
        "\n",
        "Therefore, $$\\frac{\\partial{o_i}}{\\partial{v_j}} = o_i(1-o_i)$$\n",
        "\n",
        "\n",
        "For the case $i \\neq j$, we have start similarly by applying the logarithm to $i$, but take the derivative with respect to $v_j$.\n",
        "\n",
        "Take logarithm: $$ln(o_i) = ln(\\frac{exp(v_i)}{\\sum^k_{j=1}{exp(v_j)}})$$\n",
        "\n",
        "Taking the derivative with respect to $v_j$: $$\\frac{d}{dv_j} ln(o_i) =-\\frac{e^{v_j}}{\\sum^k_{j=1}{exp(v_j)}}$$ \n",
        "\n",
        "Simply this by definition of $v_j$ we have: $$\\frac{d}{dv_j} ln(o_i) = -o_j$$\n",
        "\n",
        "To find $\\frac{\\partial{o_i}}{\\partial{v_j}}$, we know that $\\frac{\\partial}{\\partial{x_j}}ln(f(x)) = \\frac{1}{f(x)}\\frac{\\partial{f(x)}}{\\partial{x_j}}$ by logarithmic derivative.\n",
        "\n",
        "Therefore, $$\\frac{\\partial{o_i}}{\\partial{v_j}} = -o_io_j$$"
      ]
    },
    {
      "cell_type": "markdown",
      "metadata": {},
      "source": [
        "### 1.2. "
      ]
    },
    {
      "cell_type": "markdown",
      "metadata": {},
      "source": []
    },
    {
      "cell_type": "markdown",
      "metadata": {},
      "source": []
    },
    {
      "cell_type": "markdown",
      "metadata": {},
      "source": [
        "## Problem 2 -  Neural Network Training and Backpropagation"
      ]
    },
    {
      "cell_type": "code",
      "execution_count": 29,
      "metadata": {},
      "outputs": [
        {
          "name": "stdout",
          "output_type": "stream",
          "text": [
            "(5000, 400) (5000, 1)\n"
          ]
        },
        {
          "ename": "TypeError",
          "evalue": "OneHotEncoder.__init__() got an unexpected keyword argument 'sparse'",
          "output_type": "error",
          "traceback": [
            "\u001b[0;31m---------------------------------------------------------------------------\u001b[0m",
            "\u001b[0;31mTypeError\u001b[0m                                 Traceback (most recent call last)",
            "Cell \u001b[0;32mIn[29], line 14\u001b[0m\n\u001b[1;32m     11\u001b[0m \u001b[38;5;28mprint\u001b[39m(X\u001b[38;5;241m.\u001b[39mshape, y\u001b[38;5;241m.\u001b[39mshape)\n\u001b[1;32m     13\u001b[0m \u001b[38;5;28;01mfrom\u001b[39;00m \u001b[38;5;21;01msklearn\u001b[39;00m\u001b[38;5;21;01m.\u001b[39;00m\u001b[38;5;21;01mpreprocessing\u001b[39;00m \u001b[38;5;28;01mimport\u001b[39;00m OneHotEncoder\n\u001b[0;32m---> 14\u001b[0m encoder \u001b[38;5;241m=\u001b[39m \u001b[43mOneHotEncoder\u001b[49m\u001b[43m(\u001b[49m\u001b[43msparse\u001b[49m\u001b[38;5;241;43m=\u001b[39;49m\u001b[38;5;28;43;01mFalse\u001b[39;49;00m\u001b[43m)\u001b[49m\n\u001b[1;32m     15\u001b[0m y_onehot \u001b[38;5;241m=\u001b[39m encoder\u001b[38;5;241m.\u001b[39mfit_transform(y)\n\u001b[1;32m     16\u001b[0m \u001b[38;5;28mprint\u001b[39m(y_onehot\u001b[38;5;241m.\u001b[39mshape)\n",
            "\u001b[0;31mTypeError\u001b[0m: OneHotEncoder.__init__() got an unexpected keyword argument 'sparse'"
          ]
        }
      ],
      "source": [
        "import numpy as np\n",
        "import pandas as pd\n",
        "import matplotlib.pyplot as plt\n",
        "from scipy.io import loadmat\n",
        "%matplotlib inline\n",
        "\n",
        "data = loadmat('ex3data1.mat')\n",
        "X = data['X']\n",
        "y = data['y']\n",
        "\n",
        "print(X.shape, y.shape)\n",
        "\n",
        "from sklearn.preprocessing import OneHotEncoder\n",
        "encoder = OneHotEncoder(sparse=False)\n",
        "y_onehot = encoder.fit_transform(y)\n",
        "print(y_onehot.shape)"
      ]
    },
    {
      "cell_type": "markdown",
      "metadata": {},
      "source": [
        "### 2.1."
      ]
    },
    {
      "cell_type": "code",
      "execution_count": null,
      "metadata": {},
      "outputs": [],
      "source": [
        "def scaled_sigmoid(z):\n",
        "    return 1 / (1 + np.exp(-2 * z))\n"
      ]
    },
    {
      "cell_type": "markdown",
      "metadata": {},
      "source": [
        "### 2.2. forward_propagate()"
      ]
    },
    {
      "cell_type": "code",
      "execution_count": 30,
      "metadata": {},
      "outputs": [],
      "source": [
        "def forward_propagate(X, theta1, theta2, theta3):\n",
        "    m = X.shape[0]\n",
        "    \n",
        "    # Input layer activations (adding bias unit)\n",
        "    a1 = np.insert(X, 0, values=np.ones(m), axis=1)\n",
        "\n",
        "    z2 = a1 * (theta1.T)\n",
        "    a2 = np.insert(scaled_sigmoid(z2), 0, values=np.ones(m), axis=1)\n",
        "    \n",
        "    z3 = a2 * (theta2.T)\n",
        "    a3 = np.insert(scaled_sigmoid(z3), 0, values=np.ones(m), axis=1)\n",
        "    \n",
        "    z4 = a3 * (theta3.T)\n",
        "    h = scaled_sigmoid(z4)\n",
        "    \n",
        "    return a1, z2, a2, z3, a3, z4, h\n"
      ]
    },
    {
      "cell_type": "markdown",
      "metadata": {},
      "source": [
        "### 2.3. cost()"
      ]
    },
    {
      "cell_type": "code",
      "execution_count": 31,
      "metadata": {},
      "outputs": [],
      "source": [
        "def cost(params, input_size, hidden_size1, hidden_size2, num_labels, X, y, learning_rate):\n",
        "    m = X.shape[0]\n",
        "    X = np.matrix(X)\n",
        "    y = np.matrix(y)\n",
        "    \n",
        "    end_theta1 = hidden_size1 * (input_size + 1)\n",
        "    end_theta2 = end_theta1 + hidden_size2 * (hidden_size1 + 1)\n",
        "    theta1 = np.reshape(params[:end_theta1], (hidden_size1, input_size + 1))\n",
        "    theta2 = np.reshape(params[end_theta1:end_theta2], (hidden_size2, hidden_size1 + 1))\n",
        "    theta3 = np.reshape(params[end_theta2:], (num_labels, hidden_size2 + 1))\n",
        "    \n",
        "    # just need the output of the last layer\n",
        "    _, _, _, _, _, _, h = forward_propagate(X, theta1, theta2, theta3)\n",
        "    \n",
        "    # Compute the cost\n",
        "    J = 0\n",
        "    for i in range(m):\n",
        "        first_term = np.multiply(-y[i, :], np.log(h[i, :]))\n",
        "        second_term = np.multiply((1 - y[i, :]), np.log(1 - h[i, :]))\n",
        "        J += np.sum(first_term - second_term)\n",
        "    J = J / m\n",
        "\n",
        "    return J\n",
        "\n",
        "def cost_with_regulazation(params, input_size, hidden_size1, hidden_size2, num_labels, X, y, learning_rate):\n",
        "    m = X.shape[0]\n",
        "    X = np.matrix(X)\n",
        "    y = np.matrix(y)\n",
        "    \n",
        "    end_theta1 = hidden_size1 * (input_size + 1)\n",
        "    end_theta2 = end_theta1 + hidden_size2 * (hidden_size1 + 1)\n",
        "    theta1 = np.reshape(params[:end_theta1], (hidden_size1, input_size + 1))\n",
        "    theta2 = np.reshape(params[end_theta1:end_theta2], (hidden_size2, hidden_size1 + 1))\n",
        "    theta3 = np.reshape(params[end_theta2:], (num_labels, hidden_size2 + 1))\n",
        "    \n",
        "    # just need the output of the last layer\n",
        "    _, _, _, _, _, _, h = forward_propagate(X, theta1, theta2, theta3)\n",
        "    \n",
        "    # Compute the cost\n",
        "    J = 0\n",
        "    for i in range(m):\n",
        "        first_term = np.multiply(-y[i, :], np.log(h[i, :]))\n",
        "        second_term = np.multiply((1 - y[i, :]), np.log(1 - h[i, :]))\n",
        "        J += np.sum(first_term - second_term)\n",
        "    J = J / m\n",
        "\n",
        "    J += (float(learning_rate) / (2 * m)) \\\n",
        "            * (np.sum(np.square(theta1[:, 1:])) \\\n",
        "                + np.sum(np.square(theta2[:, 1:])) + np.sum(np.square(theta3[:, 1:])))\n",
        "    return J\n",
        "\n"
      ]
    },
    {
      "cell_type": "code",
      "execution_count": 32,
      "metadata": {},
      "outputs": [
        {
          "name": "stdout",
          "output_type": "stream",
          "text": [
            "Theta1 shape: (20, 401)\n",
            "Theta2 shape: (20, 21)\n",
            "Theta3 shape: (10, 21)\n"
          ]
        }
      ],
      "source": [
        "# Initial setup\n",
        "input_size = 400  # Size of input layer\n",
        "hidden_size1 = 20  # Size of first hidden layer\n",
        "hidden_size2 = 20  # Size of second hidden layer\n",
        "num_labels = 10  # Size of output layer\n",
        "learning_rate = 1\n",
        "\n",
        "m = X.shape[0]\n",
        "X = np.matrix(X)\n",
        "y = np.matrix(y)\n",
        "\n",
        "# Randomly initialize parameters for the full network's parameters, adjusted for 3 layers\n",
        "params_size = (input_size + 1) * hidden_size1 + (hidden_size1 + 1) * hidden_size2 + (hidden_size2 + 1) * num_labels\n",
        "params = (np.random.random(size=params_size) - 0.5) * 0.25\n",
        "\n",
        "# Unravel the parameter array into parameter matrices for each layer\n",
        "end_theta1 = hidden_size1 * (input_size + 1)\n",
        "end_theta2 = end_theta1 + hidden_size2 * (hidden_size1 + 1)\n",
        "\n",
        "theta1 = np.matrix(np.reshape(params[:end_theta1], (hidden_size1, input_size + 1)))\n",
        "theta2 = np.matrix(np.reshape(params[end_theta1:end_theta2], (hidden_size2, hidden_size1 + 1)))\n",
        "theta3 = np.matrix(np.reshape(params[end_theta2:], (num_labels, hidden_size2 + 1)))\n",
        "\n",
        "print(f\"Theta1 shape: {theta1.shape}\")  \n",
        "print(f\"Theta2 shape: {theta2.shape}\")  \n",
        "print(f\"Theta3 shape: {theta3.shape}\")  "
      ]
    },
    {
      "cell_type": "code",
      "execution_count": 33,
      "metadata": {},
      "outputs": [
        {
          "ename": "NameError",
          "evalue": "name 'y_onehot' is not defined",
          "output_type": "error",
          "traceback": [
            "\u001b[0;31m---------------------------------------------------------------------------\u001b[0m",
            "\u001b[0;31mNameError\u001b[0m                                 Traceback (most recent call last)",
            "Cell \u001b[0;32mIn[33], line 2\u001b[0m\n\u001b[1;32m      1\u001b[0m \u001b[38;5;28mprint\u001b[39m(\u001b[38;5;124m\"\u001b[39m\u001b[38;5;124mcost without regularization: \u001b[39m\u001b[38;5;124m\"\u001b[39m, \n\u001b[0;32m----> 2\u001b[0m       cost(params, input_size, hidden_size1, hidden_size2, num_labels, X, \u001b[43my_onehot\u001b[49m, learning_rate))\n\u001b[1;32m      3\u001b[0m \u001b[38;5;28mprint\u001b[39m(\u001b[38;5;124m\"\u001b[39m\u001b[38;5;124mcost with regularization: \u001b[39m\u001b[38;5;124m\"\u001b[39m, \n\u001b[1;32m      4\u001b[0m       cost_with_regulazation(params, input_size, hidden_size1, hidden_size2, num_labels, X, y_onehot, learning_rate))\n\u001b[1;32m      5\u001b[0m a1, z2, a2, z3, a3, z4, h \u001b[38;5;241m=\u001b[39m forward_propagate(X, theta1, theta2, theta3)\n",
            "\u001b[0;31mNameError\u001b[0m: name 'y_onehot' is not defined"
          ]
        }
      ],
      "source": [
        "print(\"cost without regularization: \", \n",
        "      cost(params, input_size, hidden_size1, hidden_size2, num_labels, X, y_onehot, learning_rate))\n",
        "print(\"cost with regularization: \", \n",
        "      cost_with_regulazation(params, input_size, hidden_size1, hidden_size2, num_labels, X, y_onehot, learning_rate))\n",
        "a1, z2, a2, z3, a3, z4, h = forward_propagate(X, theta1, theta2, theta3)\n",
        "print(f\"a1: {a1.shape}, z2: {z2.shape}, a2: {a2.shape}, z3: {z3.shape}, a3: {a3.shape}, z4: {z4.shape}, h: {h.shape}\")"
      ]
    },
    {
      "cell_type": "markdown",
      "metadata": {},
      "source": [
        "### 2.4. sigmoid gradient\n",
        "\n"
      ]
    },
    {
      "cell_type": "code",
      "execution_count": 117,
      "metadata": {},
      "outputs": [],
      "source": [
        "\n",
        "def scaled_sigmoid_gradient(z):\n",
        "    return np.multiply(scaled_sigmoid(z), (1 - scaled_sigmoid(z)))"
      ]
    },
    {
      "cell_type": "markdown",
      "metadata": {},
      "source": [
        "### 2.5. backprop()"
      ]
    },
    {
      "cell_type": "code",
      "execution_count": 118,
      "metadata": {},
      "outputs": [],
      "source": [
        "def get_theta_shapes(input_size, hidden_size1, hidden_size2, num_labels):\n",
        "    \"\"\"\n",
        "    Returns the shapes of theta matrices for each layer in the network.\n",
        "    \"\"\"\n",
        "    theta1_shape = (hidden_size1, input_size + 1)\n",
        "    theta2_shape = (hidden_size2, hidden_size1 + 1)\n",
        "    theta3_shape = (num_labels, hidden_size2 + 1)\n",
        "    return theta1_shape, theta2_shape, theta3_shape\n",
        "\n",
        "def reshape_params(params, shapes):\n",
        "    \"\"\"\n",
        "    Reshapes the flattened parameter array into individual theta matrices.\n",
        "    \"\"\"\n",
        "    theta1_shape, theta2_shape, theta3_shape = shapes\n",
        "    size1 = theta1_shape[0] * theta1_shape[1]\n",
        "    size2 = size1 + theta2_shape[0] * theta2_shape[1]\n",
        "    \n",
        "    theta1 = params[:size1].reshape(theta1_shape)\n",
        "    theta2 = params[size1:size2].reshape(theta2_shape)\n",
        "    theta3 = params[size2:].reshape(theta3_shape)\n",
        "    \n",
        "    return theta1, theta2, theta3\n"
      ]
    },
    {
      "cell_type": "code",
      "execution_count": 119,
      "metadata": {},
      "outputs": [],
      "source": [
        "def backprop(params, input_size, hidden_size1, hidden_size2, num_labels, X, y, learning_rate):\n",
        "    m = X.shape[0]\n",
        "    X = np.matrix(X)\n",
        "    y = np.matrix(y)\n",
        "    \n",
        "    theta_shapes = get_theta_shapes(input_size, hidden_size1, hidden_size2, num_labels)\n",
        "    theta1, theta2, theta3 = reshape_params(params, theta_shapes)\n",
        "    \n",
        "    a1, z2, a2, z3, a3, z4, h = forward_propagate(X, theta1, theta2, theta3)\n",
        "    \n",
        "    # Gradients initialization\n",
        "    delta1 = np.zeros(theta1.shape)\n",
        "    delta2 = np.zeros(theta2.shape)\n",
        "    delta3 = np.zeros(theta3.shape)\n",
        "\n",
        "    # Compute cost\n",
        "    J = cost_with_regulazation(params, input_size, hidden_size1, hidden_size2, num_labels, X, y, learning_rate)\n",
        "    \n",
        "    # Compute gradients (Backpropagation)\n",
        "    for t in range(m):\n",
        "        a1t = a1[t,:] \n",
        "        z2t = z2[t,:] \n",
        "        a2t = a2[t,:]  \n",
        "        ht = h[t,:]  \n",
        "        yt = y[t,:]\n",
        "        \n",
        "        d4 = ht - yt\n",
        "        d3 = np.multiply((theta3.T * d4.T).T, scaled_sigmoid_gradient(np.insert(z3[t], 0, values=1)))\n",
        "        d2 = np.multiply((theta2.T * d3[:,1:].T).T, scaled_sigmoid_gradient(np.insert(z2[t], 0, values=1)))\n",
        "        \n",
        "        delta3 += d4.T * a3[t]\n",
        "        delta2 += d3[:,1:].T * a2t  \n",
        "        delta1 += d2[:,1:].T * a1t  \n",
        "    \n",
        "    delta1 = delta1 / m\n",
        "    delta2 = delta2 / m\n",
        "    delta3 = delta3 / m\n",
        "    \n",
        "    # Unroll gradients\n",
        "    grad = np.concatenate((np.ravel(delta1), np.ravel(delta2), np.ravel(delta3)))\n",
        "    \n",
        "    \n",
        "    return J, grad\n",
        "\n",
        "def backprop_with_reg(params, input_size, hidden_size1, hidden_size2, num_labels, X, y, learning_rate):\n",
        "    m = X.shape[0]\n",
        "    X = np.matrix(X)\n",
        "    y = np.matrix(y)\n",
        "    \n",
        "    theta_shapes = get_theta_shapes(input_size, hidden_size1, hidden_size2, num_labels)\n",
        "    theta1, theta2, theta3 = reshape_params(params, theta_shapes)\n",
        "    \n",
        "    a1, z2, a2, z3, a3, z4, h = forward_propagate(X, theta1, theta2, theta3)\n",
        "    \n",
        "    # Gradients initialization\n",
        "    delta1 = np.zeros(theta1.shape)\n",
        "    delta2 = np.zeros(theta2.shape)\n",
        "    delta3 = np.zeros(theta3.shape)\n",
        "\n",
        "    # Compute cost\n",
        "    J = cost_with_regulazation(params, input_size, hidden_size1, hidden_size2, num_labels, X, y, learning_rate)\n",
        "    \n",
        "    # Compute gradients (Backpropagation)\n",
        "    for t in range(m):\n",
        "        a1t = a1[t,:] \n",
        "        z2t = z2[t,:] \n",
        "        a2t = a2[t,:]  \n",
        "        ht = h[t,:]  \n",
        "        yt = y[t,:]\n",
        "        \n",
        "        d4 = ht - yt\n",
        "        d3 = np.multiply((theta3.T * d4.T).T, scaled_sigmoid_gradient(np.insert(z3[t], 0, values=1)))\n",
        "        d2 = np.multiply((theta2.T * d3[:,1:].T).T, scaled_sigmoid_gradient(np.insert(z2[t], 0, values=1)))\n",
        "        \n",
        "        delta3 += d4.T * a3[t]\n",
        "        delta2 += d3[:,1:].T * a2t  \n",
        "        delta1 += d2[:,1:].T * a1t  \n",
        "    \n",
        "    delta1 = delta1 / m\n",
        "    delta2 = delta2 / m\n",
        "    delta3 = delta3 / m\n",
        "    \n",
        "    delta1[:, 1:] += (theta1[:, 1:] * learning_rate) / m\n",
        "    delta2[:, 1:] += (theta2[:, 1:] * learning_rate) / m\n",
        "    delta3[:, 1:] += (theta3[:, 1:] * learning_rate) / m\n",
        "\n",
        "    # Unroll gradients\n",
        "    grad = np.concatenate((np.ravel(delta1), np.ravel(delta2), np.ravel(delta3)))\n",
        "    \n",
        "    return J, grad\n"
      ]
    },
    {
      "cell_type": "code",
      "execution_count": 120,
      "metadata": {},
      "outputs": [
        {
          "name": "stdout",
          "output_type": "stream",
          "text": [
            "Backpropagation cost without regularization: 6.807714127811414, grad shape: (8650,)\n"
          ]
        },
        {
          "name": "stdout",
          "output_type": "stream",
          "text": [
            "Backpropagation cost with regularization: 6.807714127811414, grad shape: (8650,)\n"
          ]
        }
      ],
      "source": [
        "J, grad = backprop(params, input_size, hidden_size1, hidden_size2, num_labels, X, y_onehot, learning_rate)\n",
        "print(f\"Backpropagation cost without regularization: {J}, grad shape: {grad.shape}\")\n",
        "\n",
        "J_reg, grad_reg = backprop_with_reg(params, input_size, hidden_size1, hidden_size2, num_labels, X, y_onehot, learning_rate)\n",
        "print(f\"Backpropagation cost with regularization: {J_reg}, grad shape: {grad_reg.shape}\")"
      ]
    },
    {
      "cell_type": "markdown",
      "metadata": {},
      "source": [
        "### 2.6. & 2.7. Train"
      ]
    },
    {
      "cell_type": "code",
      "execution_count": 121,
      "metadata": {},
      "outputs": [
        {
          "name": "stderr",
          "output_type": "stream",
          "text": [
            "/var/folders/v1/6k_h9wg90q56lxft6dxycw200000gn/T/ipykernel_26624/488540519.py:6: DeprecationWarning: 'maxiter' has been deprecated in favor of 'maxfun' and will be removed in SciPy 1.11.0.\n",
            "  result = minimize(fun=backprop_with_reg, x0=params,\n"
          ]
        },
        {
          "name": "stdout",
          "output_type": "stream",
          "text": [
            " message: Max. number of function evaluations reached\n",
            " success: False\n",
            "  status: 3\n",
            "     fun: 0.144595091159654\n",
            "       x: [ 3.798e-02 -3.399e-04 ... -1.601e+00 -1.268e+00]\n",
            "     nit: 33\n",
            "     jac: [-1.204e-04 -6.798e-08 ...  3.294e-04  4.233e-04]\n",
            "    nfev: 250\n",
            "Optimized cost: 0.144595091159654\n"
          ]
        }
      ],
      "source": [
        "from scipy.optimize import minimize\n",
        "\n",
        "options = {'maxiter': 250}\n",
        "\n",
        "\n",
        "result = minimize(fun=backprop_with_reg, x0=params, \n",
        "                  args=(input_size, hidden_size1, hidden_size2, num_labels, X, y_onehot, learning_rate), \n",
        "                  method='TNC', jac=True, options=options)\n",
        "\n",
        "\n",
        "params_optimized = result.x\n",
        "cost_optimized = result.fun\n",
        "\n",
        "print(result)\n",
        "print(f\"Optimized cost: {cost_optimized}\")\n"
      ]
    },
    {
      "cell_type": "code",
      "execution_count": 124,
      "metadata": {},
      "outputs": [
        {
          "name": "stdout",
          "output_type": "stream",
          "text": [
            "Accuracy = 99.83999999999999%\n"
          ]
        }
      ],
      "source": [
        "end_theta1 = hidden_size1 * (input_size + 1)\n",
        "end_theta2 = end_theta1 + hidden_size2 * (hidden_size1 + 1)\n",
        "\n",
        "\n",
        "theta1 = np.matrix(np.reshape(result.x[:end_theta1], (hidden_size1, input_size + 1)))\n",
        "theta2 = np.matrix(np.reshape(result.x[end_theta1:end_theta2], (hidden_size2, hidden_size1 + 1)))\n",
        "theta3 = np.matrix(np.reshape(result.x[end_theta2:], (num_labels, hidden_size2 + 1)))\n",
        "\n",
        "\n",
        "X = np.matrix(X)\n",
        "# X = np.insert(X, 0, values=np.ones(X.shape[0]), axis=1)\n",
        "\n",
        "a1, z2, a2, z3, a3, z4, h = forward_propagate(X, theta1, theta2, theta3)\n",
        "\n",
        "\n",
        "y_pred = np.array(np.argmax(h, axis=1) + 1)\n",
        "\n",
        "# y = np.squeeze(np.array(y))\n",
        "\n",
        "correct = [1 if a == b else 0 for (a, b) in zip(y_pred, y)]\n",
        "accuracy = (sum(correct) / float(len(correct)))\n",
        "print('Accuracy = {0}%'.format(accuracy * 100))"
      ]
    },
    {
      "cell_type": "markdown",
      "metadata": {},
      "source": [
        "### 2.8. \n",
        "\n",
        "We achieve an accuracy of 99.86% with a 3-layer neural network compared to 99.2% with a 2-layer network from the notebooks. Basically, we add an additional hidden layer increases the complexity of the model. This means the network has more parameters (weights and biases) to adjust during training, allowing it to capture more intricate patterns in the data. A deeper network can learn more complex function. By adding more layers, the network can create more complex representations of the input data."
      ]
    },
    {
      "cell_type": "markdown",
      "metadata": {},
      "source": [
        "## Problem 3 - Weight Initialization, Dead Neurons, Leaky ReLU"
      ]
    },
    {
      "cell_type": "markdown",
      "metadata": {},
      "source": [
        "### 3.1. \n"
      ]
    },
    {
      "cell_type": "code",
      "execution_count": 23,
      "metadata": {},
      "outputs": [],
      "source": [
        "from keras.models import Sequential\n",
        "from keras.layers import Conv2D, MaxPooling2D, Dense, Dropout, Flatten\n",
        "from keras import backend as K\n",
        "import keras\n",
        "from matplotlib import pyplot as plt\n",
        "from matplotlib import rcParamsDefault\n",
        "import tensorflow as tf\n",
        "## use of code from github.com/intoli/intoli-article-materials/blob/master/articles/neural-network-initialization/utils.py\n",
        "\n",
        "def grid_axes_it(n_plots, n_cols=3, enumerate=False, fig=None):\n",
        "    \"\"\"\n",
        "    Iterate through Axes objects on a grid with n_cols columns and as many\n",
        "    rows as needed to accommodate n_plots many plots.\n",
        "\n",
        "    Args:\n",
        "        n_plots: Number of plots to plot onto figure.\n",
        "        n_cols: Number of columns to divide the figure into.\n",
        "        fig: Optional figure reference.\n",
        "\n",
        "    Yields:\n",
        "        n_plots many Axes objects on a grid.\n",
        "    \"\"\"\n",
        "    n_rows = int(n_plots / n_cols + int(n_plots % n_cols > 0))\n",
        "\n",
        "    if not fig:\n",
        "        default_figsize = rcParamsDefault['figure.figsize']\n",
        "        fig = plt.figure(figsize=(\n",
        "            default_figsize[0] * n_cols,\n",
        "            default_figsize[1] * n_rows\n",
        "        ))\n",
        "\n",
        "    for i in range(1, n_plots + 1):\n",
        "        ax = plt.subplot(n_rows, n_cols, i)\n",
        "        yield ax\n",
        "\n",
        "\n",
        "def create_mlp_model(\n",
        "    n_hidden_layers,\n",
        "    dim_layer,\n",
        "    input_shape,\n",
        "    n_classes,\n",
        "    kernel_initializer,\n",
        "    bias_initializer,\n",
        "    activation,\n",
        "):\n",
        "    \"\"\"Create Multi-Layer Perceptron with given parameters.\"\"\"\n",
        "    model = Sequential()\n",
        "    model.add(Dense(dim_layer, input_shape=input_shape, kernel_initializer=kernel_initializer,\n",
        "                    bias_initializer=bias_initializer))\n",
        "    for i in range(n_hidden_layers):\n",
        "        model.add(Dense(dim_layer, activation=activation, kernel_initializer=kernel_initializer,\n",
        "                        bias_initializer=bias_initializer))\n",
        "    model.add(Dense(n_classes, activation='softmax', kernel_initializer=kernel_initializer,\n",
        "                    bias_initializer=bias_initializer))\n",
        "    return model\n",
        "\n",
        "\n",
        "def create_cnn_model(input_shape, num_classes, kernel_initializer='glorot_uniform',\n",
        "                     bias_initializer='zeros'):\n",
        "    \"\"\"Create CNN model similar to\n",
        "       https://github.com/keras-team/keras/blob/master/examples/mnist_cnn.py.\"\"\"\n",
        "    model = Sequential()\n",
        "    model.add(Conv2D(32, kernel_size=(3, 3),\n",
        "                     activation='relu',\n",
        "                     input_shape=input_shape,\n",
        "                     kernel_initializer=kernel_initializer,\n",
        "                     bias_initializer=bias_initializer))\n",
        "    model.add(Conv2D(64, (3, 3), activation='relu',\n",
        "                     kernel_initializer=kernel_initializer,\n",
        "                     bias_initializer=bias_initializer))\n",
        "    model.add(MaxPooling2D(pool_size=(2, 2)))\n",
        "    model.add(Dropout(0.25))\n",
        "    model.add(Flatten())\n",
        "    model.add(Dense(128, activation='relu',\n",
        "                    kernel_initializer=kernel_initializer,\n",
        "                    bias_initializer=bias_initializer))\n",
        "    model.add(Dropout(0.5))\n",
        "    model.add(Dense(num_classes, activation='softmax',\n",
        "                    kernel_initializer=kernel_initializer,\n",
        "                    bias_initializer=bias_initializer))\n",
        "    return model\n",
        "\n",
        "\n",
        "def compile_model(model):\n",
        "    model.compile(loss = keras.losses.categorical_crossentropy,\n",
        "                  optimizer=keras.optimizers.legacy.RMSprop(),\n",
        "                  metrics=['accuracy'])\n",
        "    return model\n",
        "\n",
        "\n",
        "def get_init_id(init):\n",
        "    \"\"\"\n",
        "    Returns string ID summarizing initialization scheme and its parameters.\n",
        "\n",
        "    Args:\n",
        "        init: Instance of some initializer from keras.initializers.\n",
        "    \"\"\"\n",
        "    try:\n",
        "        init_name = str(init).split('.')[2].split(' ')[0]\n",
        "    except:\n",
        "        init_name = str(init).split(' ')[0].replace('.', '_')\n",
        "\n",
        "    param_list = []\n",
        "    config = init.get_config()\n",
        "    for k, v in config.items():\n",
        "        if k == 'seed':\n",
        "            continue\n",
        "        param_list.append('{k}-{v}'.format(k=k, v=v))\n",
        "    init_params = '__'.join(param_list)\n",
        "\n",
        "    return '|'.join([init_name, init_params])\n",
        "\n",
        "\n",
        "def get_activations(model, x, mode=0.0):\n",
        "    \"\"\"Extract activations with given model and input vector x.\"\"\"\n",
        "    outputs = [layer.output for layer in model.layers]\n",
        "    activations = K.function([model.input], outputs)\n",
        "    output_elts = activations([x, mode])\n",
        "    return output_elts\n",
        "\n",
        "\n",
        "class LossHistory(keras.callbacks.Callback):\n",
        "    \"\"\"A custom keras callback for recording losses during network training.\"\"\"\n",
        "\n",
        "    def on_train_begin(self, logs={}):\n",
        "        self.losses = []\n",
        "        self.epoch_losses = []\n",
        "        self.epoch_val_losses = []\n",
        "\n",
        "    def on_batch_end(self, batch, logs={}):\n",
        "        self.losses.append(logs.get('loss'))\n",
        "\n",
        "    def on_epoch_end(self, epoch, logs={}):\n",
        "        self.epoch_losses.append(logs.get('loss'))\n",
        "        self.epoch_val_losses.append(logs.get('val_loss'))"
      ]
    },
    {
      "cell_type": "code",
      "execution_count": 24,
      "metadata": {},
      "outputs": [],
      "source": [
        "def calculate_gradients(network, inputs, targets):\n",
        "\n",
        "    loss_function = tf.keras.losses.CategoricalCrossentropy()\n",
        "    \n",
        "\n",
        "    with tf.GradientTape(persistent= True) as gradient_tape:\n",
        "        predictions = network(inputs)  \n",
        "        loss = loss_function(targets, predictions) \n",
        "    \n",
        "    \n",
        "    gradients_list = []\n",
        "\n",
        "    for layer in network.layers:\n",
        "        if layer.trainable:\n",
        "            for weight in layer.trainable_weights:\n",
        "                if 'bias' not in weight.name:\n",
        "                    weight_gradient = gradient_tape.gradient(loss, weight)\n",
        "                    gradients_list.append(weight_gradient)\n",
        "    \n",
        "    return gradients_list"
      ]
    },
    {
      "cell_type": "code",
      "execution_count": 25,
      "metadata": {},
      "outputs": [
        {
          "name": "stdout",
          "output_type": "stream",
          "text": [
            "1875/1875 [==============================] - 45s 24ms/step - loss: 1.4073 - accuracy: 0.4451\n",
            "1875/1875 [==============================] - 45s 23ms/step - loss: 0.2690 - accuracy: 0.9189\n",
            " 272/1875 [===>..........................] - ETA: 38s - loss: 9.6266 - accuracy: 0.1319"
          ]
        },
        {
          "ename": "KeyboardInterrupt",
          "evalue": "",
          "output_type": "error",
          "traceback": [
            "\u001b[0;31m---------------------------------------------------------------------------\u001b[0m",
            "\u001b[0;31mKeyboardInterrupt\u001b[0m                         Traceback (most recent call last)",
            "Cell \u001b[0;32mIn[25], line 60\u001b[0m\n\u001b[1;32m     50\u001b[0m model \u001b[38;5;241m=\u001b[39m create_mlp_model(\n\u001b[1;32m     51\u001b[0m     n_hidden_layers,\n\u001b[1;32m     52\u001b[0m     dim_layer,\n\u001b[0;32m   (...)\u001b[0m\n\u001b[1;32m     57\u001b[0m     activation\n\u001b[1;32m     58\u001b[0m )\n\u001b[1;32m     59\u001b[0m compile_model(model)\n\u001b[0;32m---> 60\u001b[0m \u001b[43mmodel\u001b[49m\u001b[38;5;241;43m.\u001b[39;49m\u001b[43mfit\u001b[49m\u001b[43m(\u001b[49m\u001b[43mx_train\u001b[49m\u001b[43m,\u001b[49m\u001b[43m \u001b[49m\u001b[43my_train\u001b[49m\u001b[43m)\u001b[49m\n\u001b[1;32m     61\u001b[0m output_elts \u001b[38;5;241m=\u001b[39m calculate_gradients(model, x_test, y_test)\n\u001b[1;32m     62\u001b[0m n_layers \u001b[38;5;241m=\u001b[39m \u001b[38;5;28mlen\u001b[39m(model\u001b[38;5;241m.\u001b[39mlayers)\n",
            "File \u001b[0;32m~/Downloads/DS301 Advance ML/deep-learning/env/lib/python3.10/site-packages/keras/src/utils/traceback_utils.py:65\u001b[0m, in \u001b[0;36mfilter_traceback.<locals>.error_handler\u001b[0;34m(*args, **kwargs)\u001b[0m\n\u001b[1;32m     63\u001b[0m filtered_tb \u001b[38;5;241m=\u001b[39m \u001b[38;5;28;01mNone\u001b[39;00m\n\u001b[1;32m     64\u001b[0m \u001b[38;5;28;01mtry\u001b[39;00m:\n\u001b[0;32m---> 65\u001b[0m     \u001b[38;5;28;01mreturn\u001b[39;00m \u001b[43mfn\u001b[49m\u001b[43m(\u001b[49m\u001b[38;5;241;43m*\u001b[39;49m\u001b[43margs\u001b[49m\u001b[43m,\u001b[49m\u001b[43m \u001b[49m\u001b[38;5;241;43m*\u001b[39;49m\u001b[38;5;241;43m*\u001b[39;49m\u001b[43mkwargs\u001b[49m\u001b[43m)\u001b[49m\n\u001b[1;32m     66\u001b[0m \u001b[38;5;28;01mexcept\u001b[39;00m \u001b[38;5;167;01mException\u001b[39;00m \u001b[38;5;28;01mas\u001b[39;00m e:\n\u001b[1;32m     67\u001b[0m     filtered_tb \u001b[38;5;241m=\u001b[39m _process_traceback_frames(e\u001b[38;5;241m.\u001b[39m__traceback__)\n",
            "File \u001b[0;32m~/Downloads/DS301 Advance ML/deep-learning/env/lib/python3.10/site-packages/keras/src/engine/training.py:1807\u001b[0m, in \u001b[0;36mModel.fit\u001b[0;34m(self, x, y, batch_size, epochs, verbose, callbacks, validation_split, validation_data, shuffle, class_weight, sample_weight, initial_epoch, steps_per_epoch, validation_steps, validation_batch_size, validation_freq, max_queue_size, workers, use_multiprocessing)\u001b[0m\n\u001b[1;32m   1799\u001b[0m \u001b[38;5;28;01mwith\u001b[39;00m tf\u001b[38;5;241m.\u001b[39mprofiler\u001b[38;5;241m.\u001b[39mexperimental\u001b[38;5;241m.\u001b[39mTrace(\n\u001b[1;32m   1800\u001b[0m     \u001b[38;5;124m\"\u001b[39m\u001b[38;5;124mtrain\u001b[39m\u001b[38;5;124m\"\u001b[39m,\n\u001b[1;32m   1801\u001b[0m     epoch_num\u001b[38;5;241m=\u001b[39mepoch,\n\u001b[0;32m   (...)\u001b[0m\n\u001b[1;32m   1804\u001b[0m     _r\u001b[38;5;241m=\u001b[39m\u001b[38;5;241m1\u001b[39m,\n\u001b[1;32m   1805\u001b[0m ):\n\u001b[1;32m   1806\u001b[0m     callbacks\u001b[38;5;241m.\u001b[39mon_train_batch_begin(step)\n\u001b[0;32m-> 1807\u001b[0m     tmp_logs \u001b[38;5;241m=\u001b[39m \u001b[38;5;28;43mself\u001b[39;49m\u001b[38;5;241;43m.\u001b[39;49m\u001b[43mtrain_function\u001b[49m\u001b[43m(\u001b[49m\u001b[43miterator\u001b[49m\u001b[43m)\u001b[49m\n\u001b[1;32m   1808\u001b[0m     \u001b[38;5;28;01mif\u001b[39;00m data_handler\u001b[38;5;241m.\u001b[39mshould_sync:\n\u001b[1;32m   1809\u001b[0m         context\u001b[38;5;241m.\u001b[39masync_wait()\n",
            "File \u001b[0;32m~/Downloads/DS301 Advance ML/deep-learning/env/lib/python3.10/site-packages/tensorflow/python/util/traceback_utils.py:150\u001b[0m, in \u001b[0;36mfilter_traceback.<locals>.error_handler\u001b[0;34m(*args, **kwargs)\u001b[0m\n\u001b[1;32m    148\u001b[0m filtered_tb \u001b[38;5;241m=\u001b[39m \u001b[38;5;28;01mNone\u001b[39;00m\n\u001b[1;32m    149\u001b[0m \u001b[38;5;28;01mtry\u001b[39;00m:\n\u001b[0;32m--> 150\u001b[0m   \u001b[38;5;28;01mreturn\u001b[39;00m \u001b[43mfn\u001b[49m\u001b[43m(\u001b[49m\u001b[38;5;241;43m*\u001b[39;49m\u001b[43margs\u001b[49m\u001b[43m,\u001b[49m\u001b[43m \u001b[49m\u001b[38;5;241;43m*\u001b[39;49m\u001b[38;5;241;43m*\u001b[39;49m\u001b[43mkwargs\u001b[49m\u001b[43m)\u001b[49m\n\u001b[1;32m    151\u001b[0m \u001b[38;5;28;01mexcept\u001b[39;00m \u001b[38;5;167;01mException\u001b[39;00m \u001b[38;5;28;01mas\u001b[39;00m e:\n\u001b[1;32m    152\u001b[0m   filtered_tb \u001b[38;5;241m=\u001b[39m _process_traceback_frames(e\u001b[38;5;241m.\u001b[39m__traceback__)\n",
            "File \u001b[0;32m~/Downloads/DS301 Advance ML/deep-learning/env/lib/python3.10/site-packages/tensorflow/python/eager/polymorphic_function/polymorphic_function.py:832\u001b[0m, in \u001b[0;36mFunction.__call__\u001b[0;34m(self, *args, **kwds)\u001b[0m\n\u001b[1;32m    829\u001b[0m compiler \u001b[38;5;241m=\u001b[39m \u001b[38;5;124m\"\u001b[39m\u001b[38;5;124mxla\u001b[39m\u001b[38;5;124m\"\u001b[39m \u001b[38;5;28;01mif\u001b[39;00m \u001b[38;5;28mself\u001b[39m\u001b[38;5;241m.\u001b[39m_jit_compile \u001b[38;5;28;01melse\u001b[39;00m \u001b[38;5;124m\"\u001b[39m\u001b[38;5;124mnonXla\u001b[39m\u001b[38;5;124m\"\u001b[39m\n\u001b[1;32m    831\u001b[0m \u001b[38;5;28;01mwith\u001b[39;00m OptionalXlaContext(\u001b[38;5;28mself\u001b[39m\u001b[38;5;241m.\u001b[39m_jit_compile):\n\u001b[0;32m--> 832\u001b[0m   result \u001b[38;5;241m=\u001b[39m \u001b[38;5;28;43mself\u001b[39;49m\u001b[38;5;241;43m.\u001b[39;49m\u001b[43m_call\u001b[49m\u001b[43m(\u001b[49m\u001b[38;5;241;43m*\u001b[39;49m\u001b[43margs\u001b[49m\u001b[43m,\u001b[49m\u001b[43m \u001b[49m\u001b[38;5;241;43m*\u001b[39;49m\u001b[38;5;241;43m*\u001b[39;49m\u001b[43mkwds\u001b[49m\u001b[43m)\u001b[49m\n\u001b[1;32m    834\u001b[0m new_tracing_count \u001b[38;5;241m=\u001b[39m \u001b[38;5;28mself\u001b[39m\u001b[38;5;241m.\u001b[39mexperimental_get_tracing_count()\n\u001b[1;32m    835\u001b[0m without_tracing \u001b[38;5;241m=\u001b[39m (tracing_count \u001b[38;5;241m==\u001b[39m new_tracing_count)\n",
            "File \u001b[0;32m~/Downloads/DS301 Advance ML/deep-learning/env/lib/python3.10/site-packages/tensorflow/python/eager/polymorphic_function/polymorphic_function.py:868\u001b[0m, in \u001b[0;36mFunction._call\u001b[0;34m(self, *args, **kwds)\u001b[0m\n\u001b[1;32m    865\u001b[0m   \u001b[38;5;28mself\u001b[39m\u001b[38;5;241m.\u001b[39m_lock\u001b[38;5;241m.\u001b[39mrelease()\n\u001b[1;32m    866\u001b[0m   \u001b[38;5;66;03m# In this case we have created variables on the first call, so we run the\u001b[39;00m\n\u001b[1;32m    867\u001b[0m   \u001b[38;5;66;03m# defunned version which is guaranteed to never create variables.\u001b[39;00m\n\u001b[0;32m--> 868\u001b[0m   \u001b[38;5;28;01mreturn\u001b[39;00m \u001b[43mtracing_compilation\u001b[49m\u001b[38;5;241;43m.\u001b[39;49m\u001b[43mcall_function\u001b[49m\u001b[43m(\u001b[49m\n\u001b[1;32m    869\u001b[0m \u001b[43m      \u001b[49m\u001b[43margs\u001b[49m\u001b[43m,\u001b[49m\u001b[43m \u001b[49m\u001b[43mkwds\u001b[49m\u001b[43m,\u001b[49m\u001b[43m \u001b[49m\u001b[38;5;28;43mself\u001b[39;49m\u001b[38;5;241;43m.\u001b[39;49m\u001b[43m_no_variable_creation_config\u001b[49m\n\u001b[1;32m    870\u001b[0m \u001b[43m  \u001b[49m\u001b[43m)\u001b[49m\n\u001b[1;32m    871\u001b[0m \u001b[38;5;28;01melif\u001b[39;00m \u001b[38;5;28mself\u001b[39m\u001b[38;5;241m.\u001b[39m_variable_creation_config \u001b[38;5;129;01mis\u001b[39;00m \u001b[38;5;129;01mnot\u001b[39;00m \u001b[38;5;28;01mNone\u001b[39;00m:\n\u001b[1;32m    872\u001b[0m   \u001b[38;5;66;03m# Release the lock early so that multiple threads can perform the call\u001b[39;00m\n\u001b[1;32m    873\u001b[0m   \u001b[38;5;66;03m# in parallel.\u001b[39;00m\n\u001b[1;32m    874\u001b[0m   \u001b[38;5;28mself\u001b[39m\u001b[38;5;241m.\u001b[39m_lock\u001b[38;5;241m.\u001b[39mrelease()\n",
            "File \u001b[0;32m~/Downloads/DS301 Advance ML/deep-learning/env/lib/python3.10/site-packages/tensorflow/python/eager/polymorphic_function/tracing_compilation.py:139\u001b[0m, in \u001b[0;36mcall_function\u001b[0;34m(args, kwargs, tracing_options)\u001b[0m\n\u001b[1;32m    137\u001b[0m bound_args \u001b[38;5;241m=\u001b[39m function\u001b[38;5;241m.\u001b[39mfunction_type\u001b[38;5;241m.\u001b[39mbind(\u001b[38;5;241m*\u001b[39margs, \u001b[38;5;241m*\u001b[39m\u001b[38;5;241m*\u001b[39mkwargs)\n\u001b[1;32m    138\u001b[0m flat_inputs \u001b[38;5;241m=\u001b[39m function\u001b[38;5;241m.\u001b[39mfunction_type\u001b[38;5;241m.\u001b[39munpack_inputs(bound_args)\n\u001b[0;32m--> 139\u001b[0m \u001b[38;5;28;01mreturn\u001b[39;00m \u001b[43mfunction\u001b[49m\u001b[38;5;241;43m.\u001b[39;49m\u001b[43m_call_flat\u001b[49m\u001b[43m(\u001b[49m\u001b[43m  \u001b[49m\u001b[38;5;66;43;03m# pylint: disable=protected-access\u001b[39;49;00m\n\u001b[1;32m    140\u001b[0m \u001b[43m    \u001b[49m\u001b[43mflat_inputs\u001b[49m\u001b[43m,\u001b[49m\u001b[43m \u001b[49m\u001b[43mcaptured_inputs\u001b[49m\u001b[38;5;241;43m=\u001b[39;49m\u001b[43mfunction\u001b[49m\u001b[38;5;241;43m.\u001b[39;49m\u001b[43mcaptured_inputs\u001b[49m\n\u001b[1;32m    141\u001b[0m \u001b[43m\u001b[49m\u001b[43m)\u001b[49m\n",
            "File \u001b[0;32m~/Downloads/DS301 Advance ML/deep-learning/env/lib/python3.10/site-packages/tensorflow/python/eager/polymorphic_function/concrete_function.py:1323\u001b[0m, in \u001b[0;36mConcreteFunction._call_flat\u001b[0;34m(self, tensor_inputs, captured_inputs)\u001b[0m\n\u001b[1;32m   1319\u001b[0m possible_gradient_type \u001b[38;5;241m=\u001b[39m gradients_util\u001b[38;5;241m.\u001b[39mPossibleTapeGradientTypes(args)\n\u001b[1;32m   1320\u001b[0m \u001b[38;5;28;01mif\u001b[39;00m (possible_gradient_type \u001b[38;5;241m==\u001b[39m gradients_util\u001b[38;5;241m.\u001b[39mPOSSIBLE_GRADIENT_TYPES_NONE\n\u001b[1;32m   1321\u001b[0m     \u001b[38;5;129;01mand\u001b[39;00m executing_eagerly):\n\u001b[1;32m   1322\u001b[0m   \u001b[38;5;66;03m# No tape is watching; skip to running the function.\u001b[39;00m\n\u001b[0;32m-> 1323\u001b[0m   \u001b[38;5;28;01mreturn\u001b[39;00m \u001b[38;5;28;43mself\u001b[39;49m\u001b[38;5;241;43m.\u001b[39;49m\u001b[43m_inference_function\u001b[49m\u001b[38;5;241;43m.\u001b[39;49m\u001b[43mcall_preflattened\u001b[49m\u001b[43m(\u001b[49m\u001b[43margs\u001b[49m\u001b[43m)\u001b[49m\n\u001b[1;32m   1324\u001b[0m forward_backward \u001b[38;5;241m=\u001b[39m \u001b[38;5;28mself\u001b[39m\u001b[38;5;241m.\u001b[39m_select_forward_and_backward_functions(\n\u001b[1;32m   1325\u001b[0m     args,\n\u001b[1;32m   1326\u001b[0m     possible_gradient_type,\n\u001b[1;32m   1327\u001b[0m     executing_eagerly)\n\u001b[1;32m   1328\u001b[0m forward_function, args_with_tangents \u001b[38;5;241m=\u001b[39m forward_backward\u001b[38;5;241m.\u001b[39mforward()\n",
            "File \u001b[0;32m~/Downloads/DS301 Advance ML/deep-learning/env/lib/python3.10/site-packages/tensorflow/python/eager/polymorphic_function/atomic_function.py:216\u001b[0m, in \u001b[0;36mAtomicFunction.call_preflattened\u001b[0;34m(self, args)\u001b[0m\n\u001b[1;32m    214\u001b[0m \u001b[38;5;28;01mdef\u001b[39;00m \u001b[38;5;21mcall_preflattened\u001b[39m(\u001b[38;5;28mself\u001b[39m, args: Sequence[core\u001b[38;5;241m.\u001b[39mTensor]) \u001b[38;5;241m-\u001b[39m\u001b[38;5;241m>\u001b[39m Any:\n\u001b[1;32m    215\u001b[0m \u001b[38;5;250m  \u001b[39m\u001b[38;5;124;03m\"\"\"Calls with flattened tensor inputs and returns the structured output.\"\"\"\u001b[39;00m\n\u001b[0;32m--> 216\u001b[0m   flat_outputs \u001b[38;5;241m=\u001b[39m \u001b[38;5;28;43mself\u001b[39;49m\u001b[38;5;241;43m.\u001b[39;49m\u001b[43mcall_flat\u001b[49m\u001b[43m(\u001b[49m\u001b[38;5;241;43m*\u001b[39;49m\u001b[43margs\u001b[49m\u001b[43m)\u001b[49m\n\u001b[1;32m    217\u001b[0m   \u001b[38;5;28;01mreturn\u001b[39;00m \u001b[38;5;28mself\u001b[39m\u001b[38;5;241m.\u001b[39mfunction_type\u001b[38;5;241m.\u001b[39mpack_output(flat_outputs)\n",
            "File \u001b[0;32m~/Downloads/DS301 Advance ML/deep-learning/env/lib/python3.10/site-packages/tensorflow/python/eager/polymorphic_function/atomic_function.py:251\u001b[0m, in \u001b[0;36mAtomicFunction.call_flat\u001b[0;34m(self, *args)\u001b[0m\n\u001b[1;32m    249\u001b[0m \u001b[38;5;28;01mwith\u001b[39;00m record\u001b[38;5;241m.\u001b[39mstop_recording():\n\u001b[1;32m    250\u001b[0m   \u001b[38;5;28;01mif\u001b[39;00m \u001b[38;5;28mself\u001b[39m\u001b[38;5;241m.\u001b[39m_bound_context\u001b[38;5;241m.\u001b[39mexecuting_eagerly():\n\u001b[0;32m--> 251\u001b[0m     outputs \u001b[38;5;241m=\u001b[39m \u001b[38;5;28;43mself\u001b[39;49m\u001b[38;5;241;43m.\u001b[39;49m\u001b[43m_bound_context\u001b[49m\u001b[38;5;241;43m.\u001b[39;49m\u001b[43mcall_function\u001b[49m\u001b[43m(\u001b[49m\n\u001b[1;32m    252\u001b[0m \u001b[43m        \u001b[49m\u001b[38;5;28;43mself\u001b[39;49m\u001b[38;5;241;43m.\u001b[39;49m\u001b[43mname\u001b[49m\u001b[43m,\u001b[49m\n\u001b[1;32m    253\u001b[0m \u001b[43m        \u001b[49m\u001b[38;5;28;43mlist\u001b[39;49m\u001b[43m(\u001b[49m\u001b[43margs\u001b[49m\u001b[43m)\u001b[49m\u001b[43m,\u001b[49m\n\u001b[1;32m    254\u001b[0m \u001b[43m        \u001b[49m\u001b[38;5;28;43mlen\u001b[39;49m\u001b[43m(\u001b[49m\u001b[38;5;28;43mself\u001b[39;49m\u001b[38;5;241;43m.\u001b[39;49m\u001b[43mfunction_type\u001b[49m\u001b[38;5;241;43m.\u001b[39;49m\u001b[43mflat_outputs\u001b[49m\u001b[43m)\u001b[49m\u001b[43m,\u001b[49m\n\u001b[1;32m    255\u001b[0m \u001b[43m    \u001b[49m\u001b[43m)\u001b[49m\n\u001b[1;32m    256\u001b[0m   \u001b[38;5;28;01melse\u001b[39;00m:\n\u001b[1;32m    257\u001b[0m     outputs \u001b[38;5;241m=\u001b[39m make_call_op_in_graph(\n\u001b[1;32m    258\u001b[0m         \u001b[38;5;28mself\u001b[39m,\n\u001b[1;32m    259\u001b[0m         \u001b[38;5;28mlist\u001b[39m(args),\n\u001b[1;32m    260\u001b[0m         \u001b[38;5;28mself\u001b[39m\u001b[38;5;241m.\u001b[39m_bound_context\u001b[38;5;241m.\u001b[39mfunction_call_options\u001b[38;5;241m.\u001b[39mas_attrs(),\n\u001b[1;32m    261\u001b[0m     )\n",
            "File \u001b[0;32m~/Downloads/DS301 Advance ML/deep-learning/env/lib/python3.10/site-packages/tensorflow/python/eager/context.py:1486\u001b[0m, in \u001b[0;36mContext.call_function\u001b[0;34m(self, name, tensor_inputs, num_outputs)\u001b[0m\n\u001b[1;32m   1484\u001b[0m cancellation_context \u001b[38;5;241m=\u001b[39m cancellation\u001b[38;5;241m.\u001b[39mcontext()\n\u001b[1;32m   1485\u001b[0m \u001b[38;5;28;01mif\u001b[39;00m cancellation_context \u001b[38;5;129;01mis\u001b[39;00m \u001b[38;5;28;01mNone\u001b[39;00m:\n\u001b[0;32m-> 1486\u001b[0m   outputs \u001b[38;5;241m=\u001b[39m \u001b[43mexecute\u001b[49m\u001b[38;5;241;43m.\u001b[39;49m\u001b[43mexecute\u001b[49m\u001b[43m(\u001b[49m\n\u001b[1;32m   1487\u001b[0m \u001b[43m      \u001b[49m\u001b[43mname\u001b[49m\u001b[38;5;241;43m.\u001b[39;49m\u001b[43mdecode\u001b[49m\u001b[43m(\u001b[49m\u001b[38;5;124;43m\"\u001b[39;49m\u001b[38;5;124;43mutf-8\u001b[39;49m\u001b[38;5;124;43m\"\u001b[39;49m\u001b[43m)\u001b[49m\u001b[43m,\u001b[49m\n\u001b[1;32m   1488\u001b[0m \u001b[43m      \u001b[49m\u001b[43mnum_outputs\u001b[49m\u001b[38;5;241;43m=\u001b[39;49m\u001b[43mnum_outputs\u001b[49m\u001b[43m,\u001b[49m\n\u001b[1;32m   1489\u001b[0m \u001b[43m      \u001b[49m\u001b[43minputs\u001b[49m\u001b[38;5;241;43m=\u001b[39;49m\u001b[43mtensor_inputs\u001b[49m\u001b[43m,\u001b[49m\n\u001b[1;32m   1490\u001b[0m \u001b[43m      \u001b[49m\u001b[43mattrs\u001b[49m\u001b[38;5;241;43m=\u001b[39;49m\u001b[43mattrs\u001b[49m\u001b[43m,\u001b[49m\n\u001b[1;32m   1491\u001b[0m \u001b[43m      \u001b[49m\u001b[43mctx\u001b[49m\u001b[38;5;241;43m=\u001b[39;49m\u001b[38;5;28;43mself\u001b[39;49m\u001b[43m,\u001b[49m\n\u001b[1;32m   1492\u001b[0m \u001b[43m  \u001b[49m\u001b[43m)\u001b[49m\n\u001b[1;32m   1493\u001b[0m \u001b[38;5;28;01melse\u001b[39;00m:\n\u001b[1;32m   1494\u001b[0m   outputs \u001b[38;5;241m=\u001b[39m execute\u001b[38;5;241m.\u001b[39mexecute_with_cancellation(\n\u001b[1;32m   1495\u001b[0m       name\u001b[38;5;241m.\u001b[39mdecode(\u001b[38;5;124m\"\u001b[39m\u001b[38;5;124mutf-8\u001b[39m\u001b[38;5;124m\"\u001b[39m),\n\u001b[1;32m   1496\u001b[0m       num_outputs\u001b[38;5;241m=\u001b[39mnum_outputs,\n\u001b[0;32m   (...)\u001b[0m\n\u001b[1;32m   1500\u001b[0m       cancellation_manager\u001b[38;5;241m=\u001b[39mcancellation_context,\n\u001b[1;32m   1501\u001b[0m   )\n",
            "File \u001b[0;32m~/Downloads/DS301 Advance ML/deep-learning/env/lib/python3.10/site-packages/tensorflow/python/eager/execute.py:53\u001b[0m, in \u001b[0;36mquick_execute\u001b[0;34m(op_name, num_outputs, inputs, attrs, ctx, name)\u001b[0m\n\u001b[1;32m     51\u001b[0m \u001b[38;5;28;01mtry\u001b[39;00m:\n\u001b[1;32m     52\u001b[0m   ctx\u001b[38;5;241m.\u001b[39mensure_initialized()\n\u001b[0;32m---> 53\u001b[0m   tensors \u001b[38;5;241m=\u001b[39m \u001b[43mpywrap_tfe\u001b[49m\u001b[38;5;241;43m.\u001b[39;49m\u001b[43mTFE_Py_Execute\u001b[49m\u001b[43m(\u001b[49m\u001b[43mctx\u001b[49m\u001b[38;5;241;43m.\u001b[39;49m\u001b[43m_handle\u001b[49m\u001b[43m,\u001b[49m\u001b[43m \u001b[49m\u001b[43mdevice_name\u001b[49m\u001b[43m,\u001b[49m\u001b[43m \u001b[49m\u001b[43mop_name\u001b[49m\u001b[43m,\u001b[49m\n\u001b[1;32m     54\u001b[0m \u001b[43m                                      \u001b[49m\u001b[43minputs\u001b[49m\u001b[43m,\u001b[49m\u001b[43m \u001b[49m\u001b[43mattrs\u001b[49m\u001b[43m,\u001b[49m\u001b[43m \u001b[49m\u001b[43mnum_outputs\u001b[49m\u001b[43m)\u001b[49m\n\u001b[1;32m     55\u001b[0m \u001b[38;5;28;01mexcept\u001b[39;00m core\u001b[38;5;241m.\u001b[39m_NotOkStatusException \u001b[38;5;28;01mas\u001b[39;00m e:\n\u001b[1;32m     56\u001b[0m   \u001b[38;5;28;01mif\u001b[39;00m name \u001b[38;5;129;01mis\u001b[39;00m \u001b[38;5;129;01mnot\u001b[39;00m \u001b[38;5;28;01mNone\u001b[39;00m:\n",
            "\u001b[0;31mKeyboardInterrupt\u001b[0m: "
          ]
        }
      ],
      "source": [
        "import keras\n",
        "import matplotlib.pyplot as plt\n",
        "import numpy as np\n",
        "import pandas as pd\n",
        "import seaborn as sns\n",
        "from keras import initializers\n",
        "from keras.datasets import mnist\n",
        "\n",
        "\n",
        "\n",
        "seed = 10\n",
        "\n",
        "# Number of points to plot\n",
        "n_train = 1000\n",
        "n_test = 100\n",
        "n_classes = 10\n",
        "\n",
        "# Network params\n",
        "n_hidden_layers = 5\n",
        "dim_layer = 100\n",
        "batch_size = n_train\n",
        "epochs = 1\n",
        "\n",
        "# Load and prepare MNIST dataset.\n",
        "n_train = 60000\n",
        "n_test = 10000\n",
        "\n",
        "(x_train, y_train), (x_test, y_test) = mnist.load_data()\n",
        "num_classes = len(np.unique(y_test))\n",
        "data_dim = 28 * 28\n",
        "\n",
        "x_train = x_train.reshape(60000, 784).astype('float32')[:n_train]\n",
        "x_test = x_test.reshape(10000, 784).astype('float32')[:n_train]\n",
        "x_train /= 255\n",
        "x_test /= 255\n",
        "\n",
        "y_train = keras.utils.to_categorical(y_train, num_classes)\n",
        "y_test = keras.utils.to_categorical(y_test, num_classes)\n",
        "\n",
        "# Run the data through a few MLP models and save the activations from\n",
        "# each layer into a Pandas DataFrame.\n",
        "rows = []\n",
        "sigmas = [0.01, 0.1, 0.8]\n",
        "activations = ['tanh', 'sigmoid']\n",
        "for activation in activations:\n",
        "    for stddev in sigmas:\n",
        "        init = initializers.RandomNormal(mean=0.0, stddev=stddev, seed=seed)\n",
        "        activation = activation\n",
        "\n",
        "        model = create_mlp_model(\n",
        "            n_hidden_layers,\n",
        "            dim_layer,\n",
        "            (data_dim,),\n",
        "            n_classes,\n",
        "            init,\n",
        "            'zeros',\n",
        "            activation\n",
        "        )\n",
        "        compile_model(model)\n",
        "        model.fit(x_train, y_train)\n",
        "        output_elts = calculate_gradients(model, x_test, y_test)\n",
        "        n_layers = len(model.layers)\n",
        "        i_output_layer = n_layers - 1\n",
        "\n",
        "        for i, out in enumerate(output_elts[:-1]):\n",
        "            if i > 0 and i != i_output_layer:\n",
        "                for out_i in out.numpy().ravel()[::20]:\n",
        "                    rows.append([i, stddev, out_i])\n",
        "\n",
        "    df = pd.DataFrame(rows, columns=['Hidden Layer', 'Standard Deviation', 'Output'])\n",
        "\n",
        "    fig = plt.figure(figsize=(12, 6))\n",
        "    axes = grid_axes_it(len(sigmas), 1, fig=fig)\n",
        "\n",
        "    for sig in sigmas:\n",
        "        ax = next(axes)\n",
        "        ddf = df[df['Standard Deviation'] == sig]\n",
        "        sns.violinplot(x='Hidden Layer', y='Output', data=ddf, ax=ax, scale='count', inner=None)\n",
        "\n",
        "        ax.set_xlabel('')\n",
        "        ax.set_ylabel('')\n",
        "\n",
        "        ax.set_title(f'{activation}: Gradients Drawn from $N(\\mu = 0, \\sigma = {sig})$', fontsize=13)\n",
        "\n",
        "        if sig == sigmas[1]:\n",
        "            ax.set_ylabel(\"Gradient\")\n",
        "        if sig != sigmas[-1]:\n",
        "            ax.set_xticklabels(())\n",
        "        else:\n",
        "            ax.set_xlabel(\"Hidden Layer\")\n",
        "# optimizer `tf.keras.optimizers.RMSprop` runs slowly on M1/M2 Macs, please use the legacy Keras optimizer instead\n",
        "    plt.tight_layout()\n",
        "    plt.show()"
      ]
    },
    {
      "cell_type": "markdown",
      "metadata": {},
      "source": []
    },
    {
      "cell_type": "markdown",
      "metadata": {},
      "source": [
        "### 3.2 \n",
        "\n",
        "\n",
        "\n",
        "\n"
      ]
    },
    {
      "cell_type": "code",
      "execution_count": null,
      "metadata": {},
      "outputs": [],
      "source": [
        "import keras\n",
        "import matplotlib.pyplot as plt\n",
        "import numpy as np\n",
        "import pandas as pd\n",
        "import seaborn as sns\n",
        "from keras import initializers\n",
        "from keras.datasets import mnist\n",
        "\n",
        "\n",
        "\n",
        "seed = 10\n",
        "\n",
        "# Number of points to plot\n",
        "n_train = 1000\n",
        "n_test = 100\n",
        "n_classes = 10\n",
        "\n",
        "# Network params\n",
        "n_hidden_layers = 5\n",
        "dim_layer = 100\n",
        "batch_size = n_train\n",
        "epochs = 1\n",
        "\n",
        "# Load and prepare MNIST dataset.\n",
        "n_train = 60000\n",
        "n_test = 10000\n",
        "\n",
        "(x_train, y_train), (x_test, y_test) = mnist.load_data()\n",
        "num_classes = len(np.unique(y_test))\n",
        "data_dim = 28 * 28\n",
        "\n",
        "x_train = x_train.reshape(60000, 784).astype('float32')[:n_train]\n",
        "x_test = x_test.reshape(10000, 784).astype('float32')[:n_train]\n",
        "x_train /= 255\n",
        "x_test /= 255\n",
        "\n",
        "y_train = keras.utils.to_categorical(y_train, num_classes)\n",
        "y_test = keras.utils.to_categorical(y_test, num_classes)\n",
        "\n",
        "# Run the data through a few MLP models and save the activations from\n",
        "# each layer into a Pandas DataFrame.\n",
        "rows = []\n",
        "sigmas = [0.01, 0.1, 0.8]\n",
        "activations = ['tanh', 'sigmoid']\n",
        "for activation in activations:\n",
        "    for stddev in sigmas:\n",
        "        init = initializers.GlorotNormal(seed=seed)\n",
        "        activation = activation\n",
        "\n",
        "        model = create_mlp_model(\n",
        "            n_hidden_layers,\n",
        "            dim_layer,\n",
        "            (data_dim,),\n",
        "            n_classes,\n",
        "            init,\n",
        "            'zeros',\n",
        "            activation\n",
        "        )\n",
        "        compile_model(model)\n",
        "        model.fit(x_train, y_train)\n",
        "        output_elts = calculate_gradients(model, x_test, y_test)\n",
        "        n_layers = len(model.layers)\n",
        "        i_output_layer = n_layers - 1\n",
        "\n",
        "        for i, out in enumerate(output_elts[:-1]):\n",
        "            if i > 0 and i != i_output_layer:\n",
        "                for out_i in out.numpy().ravel()[::20]:\n",
        "                    rows.append([i, stddev, out_i])\n",
        "\n",
        "    df = pd.DataFrame(rows, columns=['Hidden Layer', 'Standard Deviation', 'Output'])\n",
        "\n",
        "    fig = plt.figure(figsize=(12, 6))\n",
        "    axes = grid_axes_it(len(sigmas), 1, fig=fig)\n",
        "\n",
        "    for sig in sigmas:\n",
        "        ax = next(axes)\n",
        "        ddf = df[df['Standard Deviation'] == sig]\n",
        "        sns.violinplot(x='Hidden Layer', y='Output', data=ddf, ax=ax, scale='count', inner=None)\n",
        "\n",
        "        ax.set_xlabel('')\n",
        "        ax.set_ylabel('')\n",
        "\n",
        "        ax.set_title(f'Xavier Initialization, {activation}: Gradients Drawn from $N(\\mu = 0, \\sigma = {sig})$', fontsize=13)\n",
        "\n",
        "        if sig == sigmas[1]:\n",
        "            ax.set_ylabel(\"Gradient\")\n",
        "        if sig != sigmas[-1]:\n",
        "            ax.set_xticklabels(())\n",
        "        else:\n",
        "            ax.set_xlabel(\"Hidden Layer\")\n",
        "# optimizer `tf.keras.optimizers.RMSprop` runs slowly on M1/M2 Macs, please use the legacy Keras optimizer instead\n",
        "    plt.tight_layout()\n",
        "    plt.show()"
      ]
    },
    {
      "cell_type": "markdown",
      "metadata": {},
      "source": []
    },
    {
      "cell_type": "markdown",
      "metadata": {},
      "source": [
        "### 3.3. \n",
        "\n"
      ]
    },
    {
      "cell_type": "code",
      "execution_count": null,
      "metadata": {},
      "outputs": [],
      "source": []
    },
    {
      "cell_type": "markdown",
      "metadata": {},
      "source": [
        "### 3.4. Discussion\n",
        "\n"
      ]
    },
    {
      "cell_type": "markdown",
      "metadata": {},
      "source": [
        "## Problem 4 - "
      ]
    },
    {
      "cell_type": "markdown",
      "metadata": {},
      "source": [
        "### 4.1. Plot"
      ]
    },
    {
      "cell_type": "markdown",
      "metadata": {},
      "source": [
        "#### 4.1. Written Answer\n",
        "\n"
      ]
    },
    {
      "cell_type": "markdown",
      "metadata": {},
      "source": [
        "### 4.2. \n",
        "\n"
      ]
    },
    {
      "cell_type": "markdown",
      "metadata": {},
      "source": [
        "### 4.3. "
      ]
    },
    {
      "cell_type": "markdown",
      "metadata": {},
      "source": [
        "### 4.4. \n",
        "\n"
      ]
    }
  ],
  "metadata": {
    "colab": {
      "provenance": []
    },
    "kernelspec": {
      "display_name": "Python 3",
      "name": "python3"
    },
    "language_info": {
      "codemirror_mode": {
        "name": "ipython",
        "version": 3
      },
      "file_extension": ".py",
      "mimetype": "text/x-python",
      "name": "python",
      "nbconvert_exporter": "python",
      "pygments_lexer": "ipython3",
      "version": "3.10.13"
    }
  },
  "nbformat": 4,
  "nbformat_minor": 0
}
